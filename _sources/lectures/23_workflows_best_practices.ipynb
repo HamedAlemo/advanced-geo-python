{
 "cells": [
  {
   "cell_type": "markdown",
   "id": "0cb73371-a999-45bb-94de-6c41c49eb43c",
   "metadata": {},
   "source": [
    "# Data Workflow Best Practices"
   ]
  },
  {
   "cell_type": "markdown",
   "id": "cb576425",
   "metadata": {},
   "source": [
    "**Attribution**\n",
    "This lecture is designed based on great resources available on [Earth Data Science Workflows](https://www.earthdatascience.org/courses/use-data-open-source-python/earth-data-science-workflows/) from Earth Lab CU Boulder.*\n"
   ]
  },
  {
   "cell_type": "markdown",
   "id": "ee0fed03-1b90-4bf3-83c2-8b5aeecdecb7",
   "metadata": {
    "tags": []
   },
   "source": [
    "Identifying aspects of a workflow that can be modularized and tested can help you design efficient and effective data workflows. \n"
   ]
  },
  {
   "cell_type": "markdown",
   "id": "7ff29756-ccc4-4b63-89bf-8c6b880f3f70",
   "metadata": {},
   "source": [
    "## Data Workflow Best Practices \n",
    "\n",
    "In the previous lessons, you designed a workflow to process several sites worth of Landsat data, but of course, identifying the workflow is just beginning. \n",
    "\n",
    "For each of the steps you identified in your pseudocode, you need to flesh out how you can accomplish each task. \n",
    "\n",
    "Before you design your workflow in more detail, there are many things to keep in mind regarding how you will use and name files, how you will modularize code to reduce repetitive code, etc. \n",
    "\n",
    "Consider the data workflow best practices discussed below. \n",
    " \n"
   ]
  },
  {
   "cell_type": "markdown",
   "id": "68032f0f-15f6-41a7-813b-ffca692dd54f",
   "metadata": {},
   "source": [
    "### Do Not Modify the Raw Data\n",
    "\n",
    "Typically you do not want to modify the raw data, so that you can always reproduce your output from the same inputs. In some cases, this is less important, e.g., when you are not tasked with curating the raw data. For example you *could*  re-download any landsat data. \n",
    "\n",
    "In other cases, this is extremely important - you wouldn’t want to recollect a summers worth of field collected data because you accidentally modified the original spreadsheet. \n",
    "\n",
    "A good rule of thumb is to create an “outputs” directory where you store outputs. An outputs directory is helpful because:\n",
    "1. You can always delete and recreate the outputs without worrying about deleting your original data.\n",
    "2. An outputs directory is expressive and reminds anyone looking at your project (including you in the future - i.e. your future self!) where the output products are - they don’t have to dig for the data. \n"
   ]
  },
  {
   "cell_type": "markdown",
   "id": "5cb61f00-8e21-4281-a3f8-e8719e3c706b",
   "metadata": {},
   "source": [
    "### Create Expressive Intermediate File Names and Outputs\n",
    "\n",
    "You want to carefully consider how you name your intermediate and end product outputs so that the names reflect your intention and the content. For instance - in this case you are creating an NDVI dataframe which would be exported to a csv.\n",
    "\n",
    "Here are some naming options:\n",
    "```\n",
    "# Less than ideal name\n",
    "data.csv\n",
    "# OK Name\n",
    "ndvi.csv\n",
    "# More expressive name\n",
    "all-sites-ndvi.csv\n",
    "```\n",
    "\n",
    "Always use clear, expressive names for objects, files, etc. Ask yourself if someone reading your code could guess what is contained in that object or file based on the name. \n"
   ]
  },
  {
   "cell_type": "markdown",
   "id": "fd42a611-cefe-461d-a857-88c19ab9d63f",
   "metadata": {},
   "source": [
    "### Write Modular Code \n",
    "\n",
    "As you are working on your pseudo code, consider the parts of your analysis that are well suited for functions.\n",
    "\n",
    "Writing custom functions for repetitive tasks in your workflows can help your workflow to be more efficient and easier to follow and implement.\n",
    "\n",
    "Ideally, a Python function will have 1-3 inputs and will produce 1-2 outputs. \n",
    "\n",
    "Keep functions small and focused. A function should do one thing well. \n",
    "\n",
    "You can then combine many functions into a wrapper function to automate and make for a nicely crafted program.\n"
   ]
  },
  {
   "cell_type": "markdown",
   "id": "3612cf94-daea-4c54-898a-c1aaf88fb113",
   "metadata": {},
   "source": [
    "You can use existing functions from commonly used packages (i.e. `geopandas.read_file()` or `rasterio.open()`) or <a href=\"https://www.earthdatascience.org/courses/earth-analytics-bootcamp/functions/intro-functions/\" target=\"_blank\">write your own functions</a> when one does not already exist.\n"
   ]
  },
  {
   "cell_type": "markdown",
   "id": "281f6cb5-5ee2-45a4-bc37-4a79b1b62d79",
   "metadata": {},
   "source": [
    "### Review of Key Components of Python Functions\n",
    "\n",
    "1. `def` keyword\n",
    "2. Function name\n",
    "3. Input parameters/arguments\n",
    "4. Docstring (that identifies parameters and returns)\n",
    "5. `return` statement\n"
   ]
  },
  {
   "cell_type": "markdown",
   "id": "ff519193-7947-4ca6-a7d1-8c3a2dddbd01",
   "metadata": {},
   "source": [
    "Example of a simple function"
   ]
  },
  {
   "cell_type": "code",
   "execution_count": 1,
   "id": "f3c7839a-18d9-4f7f-9b8f-3871119654cd",
   "metadata": {
    "tags": []
   },
   "outputs": [],
   "source": [
    "def add_five(x):\n",
    "    \"\"\"\n",
    "    Add the numeric value 5 to an input value.\n",
    "    \n",
    "    Parameters\n",
    "    ----------\n",
    "    x : int or float\n",
    "            \n",
    "    Returns\n",
    "    ----------\n",
    "    int or float\n",
    "        Input data with value increased by 5.\n",
    "    \"\"\"\n",
    "    \n",
    "    return (x + 5)"
   ]
  },
  {
   "cell_type": "markdown",
   "id": "9a63cfcc-1175-4810-a94e-12f6261c4c60",
   "metadata": {},
   "source": [
    "Now, check out the more complex [`geopandas.read_file()`](https://github.com/geopandas/geopandas/blob/8f2b4cc1b2cbb62aed716c9a187e800e79df3cd4/geopandas/io/file.py#L181) function on GitHub and identify each of the key components.\n"
   ]
  },
  {
   "cell_type": "markdown",
   "id": "67467147-5cb9-4733-a5fb-659982f1056a",
   "metadata": {},
   "source": [
    "**Do we have to fully understand all of the detailed code in order to use the function?**\n",
    "\n",
    "Simply put - no. We only need to know the appropriate inputs and outputs, so we can provide the correct file to get back our GeoDataframe. \n",
    "\n",
    "This is one of the primary benefits of writing and using functions!\n"
   ]
  },
  {
   "cell_type": "markdown",
   "id": "e607f177-6d61-44ae-8cc8-a0dbae4beec6",
   "metadata": {},
   "source": [
    "### Benefits of Using and Writing Function (Review)\n",
    "\n",
    "1. Reusability (e.g. by yourself or others) \n",
    "2. Fewer variables (e.g. temporary variables not needed outside of the function are not stored)\n",
    "3. Documentation/Reproducibility (e.g. for yourself or others) \n",
    "4. Easier updates to code (i.e. update only the function definition)\n",
    "5. Testing (e.g. include checks and tests on inputs and outputs directly within function)\n",
    "6. Modularity (i.e. stand-alone units of code that can be executed independently and asynchronously)\n",
    "\n",
    "Sometimes you may need to write custom functions to:\n",
    "* complete tasks that do not already have published functions\n",
    "* combine existing functions into one function for a specific task \n"
   ]
  },
  {
   "cell_type": "markdown",
   "id": "c661310d-9141-436a-bc02-640a53997b4c",
   "metadata": {
    "tags": []
   },
   "source": [
    "### Generalizing Custom Functions\n",
    "\n",
    "The best functions complete one specific task but are generalizable for more than one application. \n",
    "\n",
    "Example: Your goal is to write a function that can be used to calculate Normalized Difference Vegetation Index (NDVI)\n",
    "\n",
    "```\n",
    "(near_infrared - red) / (near_infrared + red)\n",
    "```\n",
    "\n",
    "*How Can We Generalize This For Broader Use?*\n",
    "\n",
    "There are other indices that can be calculated using the same formula such as the Normalized Burn Ratio (NBR):\n",
    "\n",
    "```\n",
    "(near_infrared - shortwave_infrared) / (near_infrared + shortwave_infrared)\n",
    "```\n",
    "\n",
    "or Normalized Difference Water Index (NDWI):\n",
    "\n",
    "```\n",
    "(green - near_infrared) / (Green + near_infrared)\n",
    "```\n",
    "\n",
    "So you can have a general function like:\n",
    "```\n",
    "(band1 - band2) / (band1 + band2)\n",
    "```\n",
    "\n",
    "Even better for conciseness and readability:\n",
    "```\n",
    "(b1 - b2) / (b1 + b2)\n",
    "```"
   ]
  },
  {
   "cell_type": "code",
   "execution_count": 2,
   "id": "b3b19fbc-798b-4e9b-b37e-a11256f57c48",
   "metadata": {
    "tags": []
   },
   "outputs": [],
   "source": [
    "def normalized_diff(b1, b2):\n",
    "    \"\"\"\n",
    "    Calculate the normalized difference of two arrays of same shape.\n",
    "    Math will be calculated (b1-b2) / (b1+b2). \n",
    "    \n",
    "    Parameters\n",
    "    ----------\n",
    "    b1, b2 : numpy arrays\n",
    "        Two numpy arrays of same shape.\n",
    "    \n",
    "    Returns\n",
    "    ----------\n",
    "    n_diff : numpy array\n",
    "        The element-wise result of (b1-b2) / (b1+b2) calculation. \n",
    "    \"\"\"\n",
    "    n_diff = (b1 - b2) / (b1 + b2)\n",
    "        \n",
    "    return n_diff"
   ]
  },
  {
   "cell_type": "markdown",
   "id": "afc92416-46d4-4e1c-9977-213f196c8443",
   "metadata": {},
   "source": [
    "## Expand Code to Add Checks and Tests\n",
    "\n",
    "By including checks (i.e. tests) in your code, you can be more confident that your code is doing what you think is! \n",
    "\n"
   ]
  },
  {
   "cell_type": "markdown",
   "id": "89eda56c-f814-4230-a0cc-b5ae691c8b54",
   "metadata": {},
   "source": [
    "**Specific Reasons to Check Your Code**\n",
    "\n",
    "* Check that inputs are of correct type/format (e.g. both arrays are two-dimensional)\n",
    "* Check that necessary prerequisites have been executed or exist (e.g. a directory named `output`)\n",
    "* Test assumptions of code (e.g. is it actually doing what you think it is?)\n",
    "* Identify points of failure (e.g. where is the code failing - input data, processing/analysis, writing out data?)\n",
    "* Identify something about the function that you did not consider (e.g. function is applicable to additional data types, function needs additional code to handle special circumstances)\n",
    "\n",
    "\n",
    "**How Can You Check Your Code?**\n",
    "\n",
    "There are many different ways to start checking your code. You can begin with conditional statements and work toward more complex checks using try/except and exception handling (which are introduced below). \n"
   ]
  },
  {
   "cell_type": "markdown",
   "id": "dbbece11-0af3-4a2b-9c07-1d87629bea49",
   "metadata": {},
   "source": [
    "### Conditional Statements\n",
    "\n",
    "This is frequently referred to as \"asking permission\" before code can execute. "
   ]
  },
  {
   "cell_type": "markdown",
   "id": "56d11962-7b01-491b-b27a-e90c51e44d2d",
   "metadata": {
    "tags": []
   },
   "source": [
    "```\n",
    "if condition_1:\n",
    "    action_1\n",
    "elif condition_2:\n",
    "    action_2\n",
    "else: \n",
    "    action_3\n",
    "```"
   ]
  },
  {
   "cell_type": "markdown",
   "id": "547ba621-5a74-403a-b89c-6a707d75ee86",
   "metadata": {},
   "source": [
    "Thinking about the `norm_diff` function: what is a condition that we might want to check for the code to run successfully? \n",
    "\n",
    "Take a look at the equation again, and think about what the intended inputs are for b1 and b2 (\"arrays of same shape\"). \n",
    "\n",
    "```\n",
    "(b1 - b2) / (b1 + b2)\n",
    "```"
   ]
  },
  {
   "cell_type": "code",
   "execution_count": 3,
   "id": "137926d4-a68c-49db-bd8e-624b445e15be",
   "metadata": {
    "tags": []
   },
   "outputs": [
    {
     "name": "stdout",
     "output_type": "stream",
     "text": [
      "Input arrays are not of same shape\n"
     ]
    }
   ],
   "source": [
    "import numpy as np \n",
    "\n",
    "# Create numpy array inputs for function\n",
    "nir_band = np.array([[6, 7, 8, 9, 10], [16, 17, 18, 19, 20]])\n",
    "red_band = np.array([[1, 2, 3, 4, 5], [11, 12, 13, 14, 15]])\n",
    "\n",
    "# Create three dimensional numpy array for testing\n",
    "nir_band_3d = np.array([[[6, 7, 8, 9, 10], [16, 17, 18, 19, 20]]])\n",
    "\n",
    "\n",
    "# Note that the if/else is used when calling the function\n",
    "if nir_band_3d.shape == red_band.shape:\n",
    "    ndvi = normalized_diff(b1=nir_band_3d, b2=red_band)\n",
    "    print(ndvi)\n",
    "else:\n",
    "    print(\"Input arrays are not of same shape\")"
   ]
  },
  {
   "cell_type": "markdown",
   "id": "bbb84efe-3f69-40ae-9e73-ebefb8cc95dc",
   "metadata": {},
   "source": [
    "### `Try` and `except`\n",
    "\n",
    "These statements allow a code block to try to execute first, and then do something else if the code is not executed successfully. \n",
    "\n",
    "This is often referred to as \"asking for forgiveness, rather than permission\".\n"
   ]
  },
  {
   "cell_type": "markdown",
   "id": "a42908c0-50b2-4f34-8b74-d11cc1ee2b6c",
   "metadata": {
    "tags": []
   },
   "source": [
    "<div>\n",
    "    <center>\n",
    "    <img src=\"https://files.realpython.com/media/try_except_else_finally.a7fac6c36c55.png\" width=\"500\"/>\n",
    "</div>\n",
    "The Try and Except code block can be used to add tests and checks your code (source: <a href=\"https://files.realpython.com/media/try_except_else_finally.a7fac6c36c55.png\" target=\"_blank\">Real Python</a>.)\n"
   ]
  },
  {
   "cell_type": "markdown",
   "id": "e520fbd8-a5db-49ed-8159-884caffaeabc",
   "metadata": {},
   "source": [
    "Example of asking for permission:"
   ]
  },
  {
   "cell_type": "code",
   "execution_count": 4,
   "id": "f7b6589b-ed45-4baa-8ccc-315563217f18",
   "metadata": {
    "tags": []
   },
   "outputs": [
    {
     "name": "stdout",
     "output_type": "stream",
     "text": [
      "Division by zero not allowed!\n"
     ]
    }
   ],
   "source": [
    "x = 5\n",
    "y = 0\n",
    "\n",
    "if y != 0:\n",
    "    print(x/y)\n",
    "else:\n",
    "    print(\"Division by zero not allowed!\")"
   ]
  },
  {
   "cell_type": "markdown",
   "id": "aca20220-dce1-44de-8a91-94ae156b43b6",
   "metadata": {},
   "source": [
    "Instead, ask for forgiveness:"
   ]
  },
  {
   "cell_type": "code",
   "execution_count": 5,
   "id": "fa7e2957-284e-4520-8bb8-44a9d687b450",
   "metadata": {
    "tags": []
   },
   "outputs": [
    {
     "name": "stdout",
     "output_type": "stream",
     "text": [
      "Division by zero not allowed!\n"
     ]
    }
   ],
   "source": [
    "try:\n",
    "    print(x/y)\n",
    "except:\n",
    "    print(\"Division by zero not allowed!\")"
   ]
  },
  {
   "cell_type": "markdown",
   "id": "82459dd2-1876-4646-927e-14bc728c9d1e",
   "metadata": {},
   "source": [
    "You can also use `try` and `except` when calling a function:"
   ]
  },
  {
   "cell_type": "code",
   "execution_count": null,
   "id": "5f979423-d0b2-45c4-8d85-bba3e0ab2101",
   "metadata": {
    "tags": []
   },
   "outputs": [
    {
     "name": "stdout",
     "output_type": "stream",
     "text": [
      "Input arrays are not of same shape\n"
     ]
    }
   ],
   "source": [
    "try:\n",
    "    ndvi = calc_indices.norm_diff(b1=nir_band_3d, b2=red_band)\n",
    "    print(ndvi)\n",
    "except:\n",
    "    print(\"Input arrays are not of same shape\")"
   ]
  },
  {
   "cell_type": "markdown",
   "id": "81b0bb5d-b867-47d2-9681-ee7403ea1233",
   "metadata": {},
   "source": [
    "**Caveat: Do you see any potential issues with `try` and `except` statements?**\n",
    "\n",
    "Let's look at another example of `try` and `except`:\n"
   ]
  },
  {
   "cell_type": "code",
   "execution_count": 7,
   "id": "4c04123c-0b76-4d0b-a4b5-03f87fc75177",
   "metadata": {
    "tags": []
   },
   "outputs": [
    {
     "name": "stdout",
     "output_type": "stream",
     "text": [
      "Directory already exists!\n"
     ]
    }
   ],
   "source": [
    "import os\n",
    "\n",
    "directory = os.path.join(os.getcwd(), \"exercise\")\n",
    "\n",
    "# Create folder if it does not exist\n",
    "try:\n",
    "    os.makedirs(directory)\n",
    "    print(\"Directory created!\")\n",
    "except:\n",
    "    print(\"Directory already exists!\")\n"
   ]
  },
  {
   "cell_type": "markdown",
   "id": "f25d9b18-13d0-4ddb-bc63-6e5d3ea77c3b",
   "metadata": {},
   "source": [
    "**Caveat: How would you know that a failure to make a new directory was due to it already existing?**\n",
    "\n",
    "Is it possible that something else could cause a new directory to not get created?\n"
   ]
  },
  {
   "cell_type": "markdown",
   "id": "a64eaf20-32ce-4867-b204-358164b63825",
   "metadata": {},
   "source": [
    "### Exception Handling\n",
    "\n",
    "Also commonly referred to as error handling, exceptions are used to check for specific types of errors that can occur when running code. \n",
    "\n",
    "Though it is more common to use exception handling when writing code that you want to publish as packages or libraries or when you are writing applications for end users, it is useful to know about these, so that you are familiar with them when you receive exception messages by others' code.\n"
   ]
  },
  {
   "cell_type": "markdown",
   "id": "fb960513-7a62-4f99-b7a2-04e545ecc18f",
   "metadata": {},
   "source": [
    "**Commonly Used Exceptions**:\n",
    "\n",
    "Here is the list of default Python exceptions with descriptions:\n",
    "- **AssertionError**: raised when the assert statement fails.\n",
    "- **EOFError**: raised when the input() function meets the end-of-file condition.\n",
    "- **AttributeError**: raised when the attribute assignment or reference fails.\n",
    "- **TabError**: raised when the indentations consist of inconsistent tabs or spaces. \n",
    "- **ImportError**: raised when importing the module fails. \n",
    "- **IndexError**: occurs when the index of a sequence is out of range\n",
    "- **KeyboardInterrupt**: raised when the user inputs interrupt keys (Ctrl + C or Delete).\n",
    "- **RuntimeError**: occurs when an error does not fall into any category. \n",
    "- **NameError**: raised when a variable is not found in the local or global scope. \n",
    "- **MemoryError**: raised when programs run out of memory. \n",
    "- **ValueError**: occurs when the operation or function receives an argument with the right type but the wrong value. \n",
    "- **ZeroDivisionError**: raised when you divide a value or variable with zero. \n",
    "- **SyntaxError**: raised by the parser when the Python syntax is wrong. \n",
    "- **IndentationError**: occurs when there is a wrong indentation.\n",
    "- **SystemError**: raised when the interpreter detects an internal error."
   ]
  },
  {
   "cell_type": "markdown",
   "id": "01ec04ac-e1d8-4a74-b718-81cf095d7846",
   "metadata": {},
   "source": [
    "Also check [here](https://docs.python.org/3/library/exceptions.html#os-exceptions) for the list of exceptions that can be raised by OS."
   ]
  },
  {
   "cell_type": "markdown",
   "metadata": {},
   "source": [
    " This is the same `try` and `except` with exception `FileExistsError`:"
   ]
  },
  {
   "cell_type": "code",
   "execution_count": 8,
   "id": "6235726c-3d58-4bb3-8dfd-02a8510d9864",
   "metadata": {
    "tags": []
   },
   "outputs": [
    {
     "name": "stdout",
     "output_type": "stream",
     "text": [
      "Directory already exists!\n"
     ]
    }
   ],
   "source": [
    "import os\n",
    "\n",
    "directory = os.path.join(os.getcwd(), \"exercise\")\n",
    "\n",
    "try:\n",
    "    os.makedirs(directory)\n",
    "    print(\"Directory created!\")\n",
    "except FileExistsError:\n",
    "    print(\"Directory already exists!\")"
   ]
  },
  {
   "cell_type": "markdown",
   "id": "b66d64b0-d61c-4ef3-aa70-868bda50ba98",
   "metadata": {},
   "source": [
    "You could also explore error handling in your function definitions:"
   ]
  },
  {
   "cell_type": "code",
   "execution_count": 9,
   "id": "135fde1a-ff28-4053-bb97-6a5080681055",
   "metadata": {
    "tags": []
   },
   "outputs": [],
   "source": [
    "# Example of ValueError\n",
    "def normalized_diff(b1, b2):\n",
    "    \"\"\"Calculate the normalized difference of two arrays of same shape.\n",
    "    Math will be calculated (b1-b2) / (b1+b2). \n",
    "    \n",
    "    Parameters\n",
    "    ----------\n",
    "    b1, b2 : numpy arrays\n",
    "        Two numpy arrays of same shape.\n",
    "    \n",
    "    Returns\n",
    "    ----------\n",
    "    n_diff : numpy array\n",
    "        The element-wise result of (b1-b2) / (b1+b2) calculation. \n",
    "    \"\"\"\n",
    "    if not (b1.shape == b2.shape):\n",
    "        raise ValueError(\"Inputs arrays should have the same dimensions\")\n",
    "        \n",
    "    n_diff = (b1 - b2) / (b1 + b2)\n",
    "        \n",
    "    return n_diff"
   ]
  },
  {
   "cell_type": "markdown",
   "id": "2e72b4a4-d519-4a54-bbc2-49ac6d294d61",
   "metadata": {},
   "source": [
    "Now if you try to run the following code:\n",
    "\n",
    "`ndvi = normalized_diff(b1=nir_band_3d, b2=red_band)`\n",
    "\n",
    "You will see the following ValueError that can help you (and others) understand why the function did not execute successfully. \n",
    "\n"
   ]
  },
  {
   "cell_type": "code",
   "execution_count": 10,
   "id": "550d5e91-45f7-435f-9e75-dada072b70c5",
   "metadata": {
    "tags": []
   },
   "outputs": [
    {
     "ename": "ValueError",
     "evalue": "Inputs arrays should have the same dimensions",
     "output_type": "error",
     "traceback": [
      "\u001b[0;31m---------------------------------------------------------------------------\u001b[0m",
      "\u001b[0;31mValueError\u001b[0m                                Traceback (most recent call last)",
      "Cell \u001b[0;32mIn[10], line 1\u001b[0m\n\u001b[0;32m----> 1\u001b[0m ndvi \u001b[38;5;241m=\u001b[39m \u001b[43mnormalized_diff\u001b[49m\u001b[43m(\u001b[49m\u001b[43mb1\u001b[49m\u001b[38;5;241;43m=\u001b[39;49m\u001b[43mnir_band_3d\u001b[49m\u001b[43m,\u001b[49m\u001b[43m \u001b[49m\u001b[43mb2\u001b[49m\u001b[38;5;241;43m=\u001b[39;49m\u001b[43mred_band\u001b[49m\u001b[43m)\u001b[49m\n",
      "Cell \u001b[0;32mIn[9], line 17\u001b[0m, in \u001b[0;36mnormalized_diff\u001b[0;34m(b1, b2)\u001b[0m\n\u001b[1;32m      3\u001b[0m \u001b[38;5;250m\u001b[39m\u001b[38;5;124;03m\"\"\"Calculate the normalized difference of two arrays of same shape.\u001b[39;00m\n\u001b[1;32m      4\u001b[0m \u001b[38;5;124;03mMath will be calculated (b1-b2) / (b1+b2). \u001b[39;00m\n\u001b[1;32m      5\u001b[0m \u001b[38;5;124;03m\u001b[39;00m\n\u001b[0;32m   (...)\u001b[0m\n\u001b[1;32m     14\u001b[0m \u001b[38;5;124;03m    The element-wise result of (b1-b2) / (b1+b2) calculation. \u001b[39;00m\n\u001b[1;32m     15\u001b[0m \u001b[38;5;124;03m\"\"\"\u001b[39;00m\n\u001b[1;32m     16\u001b[0m \u001b[38;5;28;01mif\u001b[39;00m \u001b[38;5;129;01mnot\u001b[39;00m (b1\u001b[38;5;241m.\u001b[39mshape \u001b[38;5;241m==\u001b[39m b2\u001b[38;5;241m.\u001b[39mshape):\n\u001b[0;32m---> 17\u001b[0m     \u001b[38;5;28;01mraise\u001b[39;00m \u001b[38;5;167;01mValueError\u001b[39;00m(\u001b[38;5;124m\"\u001b[39m\u001b[38;5;124mInputs arrays should have the same dimensions\u001b[39m\u001b[38;5;124m\"\u001b[39m)\n\u001b[1;32m     19\u001b[0m n_diff \u001b[38;5;241m=\u001b[39m (b1 \u001b[38;5;241m-\u001b[39m b2) \u001b[38;5;241m/\u001b[39m (b1 \u001b[38;5;241m+\u001b[39m b2)\n\u001b[1;32m     21\u001b[0m \u001b[38;5;28;01mreturn\u001b[39;00m n_diff\n",
      "\u001b[0;31mValueError\u001b[0m: Inputs arrays should have the same dimensions"
     ]
    }
   ],
   "source": [
    "ndvi = normalized_diff(b1=nir_band_3d, b2=red_band)"
   ]
  },
  {
   "cell_type": "markdown",
   "id": "642d5b8d-4707-4932-826a-890e31e229df",
   "metadata": {
    "tags": []
   },
   "source": [
    "### Old Fashioned Trial and Error\n",
    "Maybe the code is executing just fine, but maybe you are not getting the output in the most optimal format. \n",
    "\n",
    "It may not be clear to you until you run the function many times with different inputs.\n"
   ]
  },
  {
   "cell_type": "code",
   "execution_count": null,
   "id": "8754a36d-daec-419f-b1cb-0d9ca954d25d",
   "metadata": {
    "tags": []
   },
   "outputs": [
    {
     "name": "stdout",
     "output_type": "stream",
     "text": [
      "[[0.71428571 0.55555556 0.45454545 0.38461538 0.33333333]\n",
      " [0.18518519 0.17241379 0.16129032 0.15151515       -inf]]\n"
     ]
    },
    {
     "name": "stderr",
     "output_type": "stream",
     "text": [
      "/tmp/ipykernel_547/807040971.py:19: RuntimeWarning: divide by zero encountered in divide\n",
      "  n_diff = (b1 - b2) / (b1 + b2)\n"
     ]
    }
   ],
   "source": [
    "# Create numpy array input for function\n",
    "# Note that we are creating a zero in the denominator with -15\n",
    "nir_band = np.array([[6, 7, 8, 9, 10], [16, 17, 18, 19, -15]])\n",
    "red_band = np.array([[1, 2, 3, 4, 5], [11, 12, 13, 14, 15]])\n",
    "\n",
    "\n",
    "# Produces infinity values due to divide by zero\n",
    "ndvi = normalized_diff(b1=nir_band, b2=red_band)\n",
    "print(ndvi)\n"
   ]
  },
  {
   "cell_type": "markdown",
   "id": "0068bef1-eee1-4592-b66a-7ead797fd3d6",
   "metadata": {},
   "source": [
    "**What if we would rather have the output be a masked numpy array if there are any infinite values or nan values?**\n"
   ]
  },
  {
   "cell_type": "code",
   "execution_count": 13,
   "id": "72304408-8812-4fc7-9c26-897080421ff5",
   "metadata": {
    "tags": []
   },
   "outputs": [],
   "source": [
    "import warnings\n",
    "\n",
    "def normalized_diff(b1, b2):\n",
    "    \"\"\"Take two numpy arrays and calculate the normalized difference.\n",
    "    Math will be calculated (b1-b2) / (b1+b2). The arrays must be of the\n",
    "    same shape.\n",
    "    \n",
    "    Parameters\n",
    "    ----------\n",
    "    b1, b2 : numpy arrays\n",
    "        Two numpy arrays that will be used to calculate the normalized difference.\n",
    "        Math will be calculated (b1-b2) / (b1+b2).\n",
    "   \n",
    "   Returns\n",
    "    ----------\n",
    "    n_diff : numpy array\n",
    "        The element-wise result of (b1-b2) / (b1+b2) calculation. Inf values are set\n",
    "        to nan. Array returned as masked if result includes nan values.\n",
    "    \"\"\"\n",
    "    if not (b1.shape == b2.shape):\n",
    "        raise ValueError(\"Both arrays should have the same dimensions\")\n",
    "\n",
    "    n_diff = (b1 - b2) / (b1 + b2)\n",
    "\n",
    "    # Set inf values to nan and provide custom warning\n",
    "    if np.isinf(n_diff).any():\n",
    "        warnings.warn(\n",
    "            \"Divide by zero produced infinity values that will be replaced with nan values\",\n",
    "            Warning)\n",
    "        n_diff[np.isinf(n_diff)] = np.nan\n",
    "\n",
    "    # Mask invalid values\n",
    "    if np.isnan(n_diff).any():\n",
    "        n_diff = np.ma.masked_invalid(n_diff)\n",
    "\n",
    "    return n_diff"
   ]
  },
  {
   "cell_type": "markdown",
   "id": "d339bc4b-d2e6-412b-b753-e44191ebf112",
   "metadata": {},
   "source": [
    "Now, if you try the following:"
   ]
  },
  {
   "cell_type": "code",
   "execution_count": 14,
   "id": "6e4e1023-7792-42c1-ac36-9dd06d96ca53",
   "metadata": {
    "tags": []
   },
   "outputs": [
    {
     "name": "stdout",
     "output_type": "stream",
     "text": [
      "[[0.7142857142857143 0.5555555555555556 0.45454545454545453\n",
      "  0.38461538461538464 0.3333333333333333]\n",
      " [0.18518518518518517 0.1724137931034483 0.16129032258064516\n",
      "  0.15151515151515152 --]]\n"
     ]
    },
    {
     "name": "stderr",
     "output_type": "stream",
     "text": [
      "/tmp/ipykernel_547/1667987530.py:23: RuntimeWarning: divide by zero encountered in divide\n",
      "  n_diff = (b1 - b2) / (b1 + b2)\n",
      "/tmp/ipykernel_547/1667987530.py:27: Warning: Divide by zero produced infinity values that will be replaced with nan values\n",
      "  warnings.warn(\n"
     ]
    }
   ],
   "source": [
    "ndvi = normalized_diff(b1=nir_band, b2=red_band)\n",
    "print(ndvi)"
   ]
  },
  {
   "cell_type": "markdown",
   "id": "9423756b-0b4f-47bd-a980-f994e6cd41f8",
   "metadata": {
    "tags": []
   },
   "source": [
    "There is now a warning provided by the function to explain that the division by zero resulted in values that are replaced with nan values. \n"
   ]
  },
  {
   "cell_type": "markdown",
   "id": "e9ca1486-d1f9-47a5-a177-5412e22f17bc",
   "metadata": {},
   "source": [
    "There are many ways to include tests and checks in your code, so explore the resources below to learn different ways to incorporate them into your workflows.  \n",
    "\n",
    "## Additional Resources\n",
    "\n",
    "* <a href=\"https://www.oreilly.com/library/view/head-first-python/9781491919521/ch04.html\" target=\"_blank\">OReilly Review of Functions and Modularization</a>.\n",
    "\n",
    "* <a href=\"https://www.youtube.com/watch?v=NIWwJbo-9_8\" target=\"_blank\">Video tutorial on try and except by Corey Schafer</a>.\n",
    "\n",
    "* <a href=\"https://www.geeksforgeeks.org/built-exceptions-python/\" target = \"_blank\">List of Commonly Used Exceptions</a>.\n",
    "\n",
    "* <a href=\"https://www.datacamp.com/community/tutorials/exception-handling-python\" target = \"_blank\">Data Camp Tutorial on Exceptions</a>.\n",
    "\n",
    "* <a href=\"https://intermediate-and-advanced-software-carpentry.readthedocs.io/en/latest/structuring-python.html\" target = \"_blank\">Advanced Tutorial by Software Carpentry on programming for reusability</a>.\n"
   ]
  }
 ],
 "metadata": {
  "kernelspec": {
   "display_name": "Python 3 (ipykernel)",
   "language": "python",
   "name": "python3"
  },
  "language_info": {
   "codemirror_mode": {
    "name": "ipython",
    "version": 3
   },
   "file_extension": ".py",
   "mimetype": "text/x-python",
   "name": "python",
   "nbconvert_exporter": "python",
   "pygments_lexer": "ipython3",
   "version": "3.11.4"
  }
 },
 "nbformat": 4,
 "nbformat_minor": 5
}
