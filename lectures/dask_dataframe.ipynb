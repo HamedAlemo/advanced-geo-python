{
 "cells": [
  {
   "cell_type": "markdown",
   "id": "5f350668-556d-495f-8f90-3bce64dc6595",
   "metadata": {},
   "source": [
    "# Introduction to Dask DataFrame"
   ]
  },
  {
   "cell_type": "markdown",
   "id": "a6fa4249-ea9b-434d-8a58-c20f9e104f51",
   "metadata": {},
   "source": [
    "Dask DataFrames coordinate many pandas DataFrames/Series arranged along the index. A Dask DataFrame is partitioned row-wise, grouping rows by index value for efficiency."
   ]
  },
  {
   "cell_type": "markdown",
   "id": "7b0aadce-d8b6-40c2-ab77-5fdd2ee488c4",
   "metadata": {},
   "source": [
    "<div>\n",
    "<center>\n",
    "<img src=\"https://docs.dask.org/en/stable/_images/dask-dataframe.svg\" width=\"500\"/>\n",
    "</div>"
   ]
  },
  {
   "cell_type": "markdown",
   "id": "44e112b4-0172-4970-a9d8-14eb5dbd15ef",
   "metadata": {},
   "source": [
    "Many of existing methods from pandas API are available in Dask DataFrame. Checkout [this section](https://docs.dask.org/en/stable/dataframe.html#scope) of the documentation to learn more about these. In general, computations that are parallelizable are implemented in Dask DataFrame. "
   ]
  },
  {
   "cell_type": "markdown",
   "id": "4362f85f-eb93-44ac-a9fc-b1b5648fd57e",
   "metadata": {},
   "source": [
    "In this lecture, you will learn to use Dask DataFrame to analyze large tabular climate data.  "
   ]
  },
  {
   "cell_type": "markdown",
   "id": "867ad78f-66b5-4ee7-91e0-15ee71de1fc1",
   "metadata": {},
   "source": [
    "## Analyzing Multiple Large CSV files using Dask Data Frame"
   ]
  },
  {
   "cell_type": "markdown",
   "id": "c52fa4bd-3ab4-4114-96f4-4ed5d273a3cb",
   "metadata": {},
   "source": [
    "For this tutorial, we will use the NOAA Global Historical Climatology Network Daily (GHCN-D) data available on AWS S3. \n",
    "You can reach more about the data on Registry of Open Data on AWS [here](https://registry.opendata.aws/noaa-ghcn/).\n",
    "\n",
    "More information about the dataset, including the metadata descriptions, is available on [NOAA's website](https://www.ncei.noaa.gov/products/land-based-station/global-historical-climatology-network-daily). \n",
    "\n",
    "GHCN-D contains **daily observations** over global land areas. It contains station-based measurements from land-based stations worldwide, about two thirds of which are for precipitation measurement only. Some data are more than *175 years* old."
   ]
  },
  {
   "cell_type": "markdown",
   "id": "6bc7caba-5228-41af-92d2-c98eeea7e0db",
   "metadata": {
    "tags": []
   },
   "source": [
    "This dataset is very large and to analyze it within Python you need to use Dask Dataframe."
   ]
  },
  {
   "cell_type": "markdown",
   "id": "d6650833-b6bf-471a-8954-c488c27b8211",
   "metadata": {
    "tags": []
   },
   "source": [
    "### Download Data from AWS S3 bucket"
   ]
  },
  {
   "cell_type": "markdown",
   "id": "d7b677e4-9b22-406b-97d1-1424625bb275",
   "metadata": {},
   "source": [
    "You can download the dataset from AWS S3 bucket using the following commands. This dataset does not require an AWS account (hence the `--no-sign-request` flag should be passed)."
   ]
  },
  {
   "cell_type": "code",
   "execution_count": 1,
   "id": "d591e2d6-178a-4524-8e4c-4145ce878879",
   "metadata": {
    "tags": []
   },
   "outputs": [
    {
     "name": "stdout",
     "output_type": "stream",
     "text": [
      "download: s3://noaa-ghcn-pds/csv/by_year/2022.csv to ./2022.csv   \n"
     ]
    }
   ],
   "source": [
    "# Download one year of data\n",
    "! aws s3 cp --no-sign-request s3://noaa-ghcn-pds/csv/by_year/2022.csv ."
   ]
  },
  {
   "cell_type": "code",
   "execution_count": 2,
   "id": "64ba1a38-ce84-4896-82f1-3da13d2faca5",
   "metadata": {
    "tags": []
   },
   "outputs": [
    {
     "name": "stdout",
     "output_type": "stream",
     "text": [
      "download: s3://noaa-ghcn-pds/csv/by_year/2023.csv to ./2023.csv   \n",
      "download: s3://noaa-ghcn-pds/csv/by_year/2020.csv to ./2020.csv \n",
      "download: s3://noaa-ghcn-pds/csv/by_year/2021.csv to ./2021.csv\n",
      "download: s3://noaa-ghcn-pds/csv/by_year/2022.csv to ./2022.csv\n"
     ]
    }
   ],
   "source": [
    "# Download all data since 2020\n",
    "! aws s3 cp --no-sign-request s3://noaa-ghcn-pds/csv/by_year/ . --recursive --exclude=\"*\" --include=\"202*\""
   ]
  },
  {
   "cell_type": "markdown",
   "id": "4a74dadf-5d3d-4224-895c-c34ad46ccd5e",
   "metadata": {
    "tags": []
   },
   "source": [
    "### Import Packages"
   ]
  },
  {
   "cell_type": "code",
   "execution_count": 3,
   "id": "674b643b-48c1-4b48-992e-b865b5962ead",
   "metadata": {
    "tags": []
   },
   "outputs": [],
   "source": [
    "import dask.dataframe as dd"
   ]
  },
  {
   "cell_type": "code",
   "execution_count": 4,
   "id": "75332b54-8b3e-4e00-b405-9f8c75144ab5",
   "metadata": {
    "tags": []
   },
   "outputs": [
    {
     "data": {
      "text/html": [
       "<div>\n",
       "    <div style=\"width: 24px; height: 24px; background-color: #e1e1e1; border: 3px solid #9D9D9D; border-radius: 5px; position: absolute;\"> </div>\n",
       "    <div style=\"margin-left: 48px;\">\n",
       "        <h3 style=\"margin-bottom: 0px;\">Client</h3>\n",
       "        <p style=\"color: #9D9D9D; margin-bottom: 0px;\">Client-fb6cb252-62c6-11ee-81d3-424756c027d2</p>\n",
       "        <table style=\"width: 100%; text-align: left;\">\n",
       "\n",
       "        <tr>\n",
       "        \n",
       "            <td style=\"text-align: left;\"><strong>Connection method:</strong> Cluster object</td>\n",
       "            <td style=\"text-align: left;\"><strong>Cluster type:</strong> distributed.LocalCluster</td>\n",
       "        \n",
       "        </tr>\n",
       "\n",
       "        \n",
       "            <tr>\n",
       "                <td style=\"text-align: left;\">\n",
       "                    <strong>Dashboard: </strong> <a href=\"/user/halemohammad@clarku.edu/proxy/8787/status\" target=\"_blank\">/user/halemohammad@clarku.edu/proxy/8787/status</a>\n",
       "                </td>\n",
       "                <td style=\"text-align: left;\"></td>\n",
       "            </tr>\n",
       "        \n",
       "\n",
       "        </table>\n",
       "\n",
       "        \n",
       "            <button style=\"margin-bottom: 12px;\" data-commandlinker-command=\"dask:populate-and-launch-layout\" data-commandlinker-args='{\"url\": \"/user/halemohammad@clarku.edu/proxy/8787/status\" }'>\n",
       "                Launch dashboard in JupyterLab\n",
       "            </button>\n",
       "        \n",
       "\n",
       "        \n",
       "            <details>\n",
       "            <summary style=\"margin-bottom: 20px;\"><h3 style=\"display: inline;\">Cluster Info</h3></summary>\n",
       "            <div class=\"jp-RenderedHTMLCommon jp-RenderedHTML jp-mod-trusted jp-OutputArea-output\">\n",
       "    <div style=\"width: 24px; height: 24px; background-color: #e1e1e1; border: 3px solid #9D9D9D; border-radius: 5px; position: absolute;\">\n",
       "    </div>\n",
       "    <div style=\"margin-left: 48px;\">\n",
       "        <h3 style=\"margin-bottom: 0px; margin-top: 0px;\">LocalCluster</h3>\n",
       "        <p style=\"color: #9D9D9D; margin-bottom: 0px;\">48a12102</p>\n",
       "        <table style=\"width: 100%; text-align: left;\">\n",
       "            <tr>\n",
       "                <td style=\"text-align: left;\">\n",
       "                    <strong>Dashboard:</strong> <a href=\"/user/halemohammad@clarku.edu/proxy/8787/status\" target=\"_blank\">/user/halemohammad@clarku.edu/proxy/8787/status</a>\n",
       "                </td>\n",
       "                <td style=\"text-align: left;\">\n",
       "                    <strong>Workers:</strong> 4\n",
       "                </td>\n",
       "            </tr>\n",
       "            <tr>\n",
       "                <td style=\"text-align: left;\">\n",
       "                    <strong>Total threads:</strong> 8\n",
       "                </td>\n",
       "                <td style=\"text-align: left;\">\n",
       "                    <strong>Total memory:</strong> 32.00 GiB\n",
       "                </td>\n",
       "            </tr>\n",
       "            \n",
       "            <tr>\n",
       "    <td style=\"text-align: left;\"><strong>Status:</strong> running</td>\n",
       "    <td style=\"text-align: left;\"><strong>Using processes:</strong> True</td>\n",
       "</tr>\n",
       "\n",
       "            \n",
       "        </table>\n",
       "\n",
       "        <details>\n",
       "            <summary style=\"margin-bottom: 20px;\">\n",
       "                <h3 style=\"display: inline;\">Scheduler Info</h3>\n",
       "            </summary>\n",
       "\n",
       "            <div style=\"\">\n",
       "    <div>\n",
       "        <div style=\"width: 24px; height: 24px; background-color: #FFF7E5; border: 3px solid #FF6132; border-radius: 5px; position: absolute;\"> </div>\n",
       "        <div style=\"margin-left: 48px;\">\n",
       "            <h3 style=\"margin-bottom: 0px;\">Scheduler</h3>\n",
       "            <p style=\"color: #9D9D9D; margin-bottom: 0px;\">Scheduler-e3b4acfa-94c2-4fcb-83a9-4610ce50b60a</p>\n",
       "            <table style=\"width: 100%; text-align: left;\">\n",
       "                <tr>\n",
       "                    <td style=\"text-align: left;\">\n",
       "                        <strong>Comm:</strong> tcp://127.0.0.1:41753\n",
       "                    </td>\n",
       "                    <td style=\"text-align: left;\">\n",
       "                        <strong>Workers:</strong> 4\n",
       "                    </td>\n",
       "                </tr>\n",
       "                <tr>\n",
       "                    <td style=\"text-align: left;\">\n",
       "                        <strong>Dashboard:</strong> <a href=\"/user/halemohammad@clarku.edu/proxy/8787/status\" target=\"_blank\">/user/halemohammad@clarku.edu/proxy/8787/status</a>\n",
       "                    </td>\n",
       "                    <td style=\"text-align: left;\">\n",
       "                        <strong>Total threads:</strong> 8\n",
       "                    </td>\n",
       "                </tr>\n",
       "                <tr>\n",
       "                    <td style=\"text-align: left;\">\n",
       "                        <strong>Started:</strong> Just now\n",
       "                    </td>\n",
       "                    <td style=\"text-align: left;\">\n",
       "                        <strong>Total memory:</strong> 32.00 GiB\n",
       "                    </td>\n",
       "                </tr>\n",
       "            </table>\n",
       "        </div>\n",
       "    </div>\n",
       "\n",
       "    <details style=\"margin-left: 48px;\">\n",
       "        <summary style=\"margin-bottom: 20px;\">\n",
       "            <h3 style=\"display: inline;\">Workers</h3>\n",
       "        </summary>\n",
       "\n",
       "        \n",
       "        <div style=\"margin-bottom: 20px;\">\n",
       "            <div style=\"width: 24px; height: 24px; background-color: #DBF5FF; border: 3px solid #4CC9FF; border-radius: 5px; position: absolute;\"> </div>\n",
       "            <div style=\"margin-left: 48px;\">\n",
       "            <details>\n",
       "                <summary>\n",
       "                    <h4 style=\"margin-bottom: 0px; display: inline;\">Worker: 0</h4>\n",
       "                </summary>\n",
       "                <table style=\"width: 100%; text-align: left;\">\n",
       "                    <tr>\n",
       "                        <td style=\"text-align: left;\">\n",
       "                            <strong>Comm: </strong> tcp://127.0.0.1:46041\n",
       "                        </td>\n",
       "                        <td style=\"text-align: left;\">\n",
       "                            <strong>Total threads: </strong> 2\n",
       "                        </td>\n",
       "                    </tr>\n",
       "                    <tr>\n",
       "                        <td style=\"text-align: left;\">\n",
       "                            <strong>Dashboard: </strong> <a href=\"/user/halemohammad@clarku.edu/proxy/45185/status\" target=\"_blank\">/user/halemohammad@clarku.edu/proxy/45185/status</a>\n",
       "                        </td>\n",
       "                        <td style=\"text-align: left;\">\n",
       "                            <strong>Memory: </strong> 8.00 GiB\n",
       "                        </td>\n",
       "                    </tr>\n",
       "                    <tr>\n",
       "                        <td style=\"text-align: left;\">\n",
       "                            <strong>Nanny: </strong> tcp://127.0.0.1:44311\n",
       "                        </td>\n",
       "                        <td style=\"text-align: left;\"></td>\n",
       "                    </tr>\n",
       "                    <tr>\n",
       "                        <td colspan=\"2\" style=\"text-align: left;\">\n",
       "                            <strong>Local directory: </strong> /tmp/dask-scratch-space/worker-8j5qe7qt\n",
       "                        </td>\n",
       "                    </tr>\n",
       "\n",
       "                    \n",
       "\n",
       "                    \n",
       "\n",
       "                </table>\n",
       "            </details>\n",
       "            </div>\n",
       "        </div>\n",
       "        \n",
       "        <div style=\"margin-bottom: 20px;\">\n",
       "            <div style=\"width: 24px; height: 24px; background-color: #DBF5FF; border: 3px solid #4CC9FF; border-radius: 5px; position: absolute;\"> </div>\n",
       "            <div style=\"margin-left: 48px;\">\n",
       "            <details>\n",
       "                <summary>\n",
       "                    <h4 style=\"margin-bottom: 0px; display: inline;\">Worker: 1</h4>\n",
       "                </summary>\n",
       "                <table style=\"width: 100%; text-align: left;\">\n",
       "                    <tr>\n",
       "                        <td style=\"text-align: left;\">\n",
       "                            <strong>Comm: </strong> tcp://127.0.0.1:40565\n",
       "                        </td>\n",
       "                        <td style=\"text-align: left;\">\n",
       "                            <strong>Total threads: </strong> 2\n",
       "                        </td>\n",
       "                    </tr>\n",
       "                    <tr>\n",
       "                        <td style=\"text-align: left;\">\n",
       "                            <strong>Dashboard: </strong> <a href=\"/user/halemohammad@clarku.edu/proxy/36081/status\" target=\"_blank\">/user/halemohammad@clarku.edu/proxy/36081/status</a>\n",
       "                        </td>\n",
       "                        <td style=\"text-align: left;\">\n",
       "                            <strong>Memory: </strong> 8.00 GiB\n",
       "                        </td>\n",
       "                    </tr>\n",
       "                    <tr>\n",
       "                        <td style=\"text-align: left;\">\n",
       "                            <strong>Nanny: </strong> tcp://127.0.0.1:43905\n",
       "                        </td>\n",
       "                        <td style=\"text-align: left;\"></td>\n",
       "                    </tr>\n",
       "                    <tr>\n",
       "                        <td colspan=\"2\" style=\"text-align: left;\">\n",
       "                            <strong>Local directory: </strong> /tmp/dask-scratch-space/worker-b3vn2e3n\n",
       "                        </td>\n",
       "                    </tr>\n",
       "\n",
       "                    \n",
       "\n",
       "                    \n",
       "\n",
       "                </table>\n",
       "            </details>\n",
       "            </div>\n",
       "        </div>\n",
       "        \n",
       "        <div style=\"margin-bottom: 20px;\">\n",
       "            <div style=\"width: 24px; height: 24px; background-color: #DBF5FF; border: 3px solid #4CC9FF; border-radius: 5px; position: absolute;\"> </div>\n",
       "            <div style=\"margin-left: 48px;\">\n",
       "            <details>\n",
       "                <summary>\n",
       "                    <h4 style=\"margin-bottom: 0px; display: inline;\">Worker: 2</h4>\n",
       "                </summary>\n",
       "                <table style=\"width: 100%; text-align: left;\">\n",
       "                    <tr>\n",
       "                        <td style=\"text-align: left;\">\n",
       "                            <strong>Comm: </strong> tcp://127.0.0.1:34005\n",
       "                        </td>\n",
       "                        <td style=\"text-align: left;\">\n",
       "                            <strong>Total threads: </strong> 2\n",
       "                        </td>\n",
       "                    </tr>\n",
       "                    <tr>\n",
       "                        <td style=\"text-align: left;\">\n",
       "                            <strong>Dashboard: </strong> <a href=\"/user/halemohammad@clarku.edu/proxy/36147/status\" target=\"_blank\">/user/halemohammad@clarku.edu/proxy/36147/status</a>\n",
       "                        </td>\n",
       "                        <td style=\"text-align: left;\">\n",
       "                            <strong>Memory: </strong> 8.00 GiB\n",
       "                        </td>\n",
       "                    </tr>\n",
       "                    <tr>\n",
       "                        <td style=\"text-align: left;\">\n",
       "                            <strong>Nanny: </strong> tcp://127.0.0.1:39241\n",
       "                        </td>\n",
       "                        <td style=\"text-align: left;\"></td>\n",
       "                    </tr>\n",
       "                    <tr>\n",
       "                        <td colspan=\"2\" style=\"text-align: left;\">\n",
       "                            <strong>Local directory: </strong> /tmp/dask-scratch-space/worker-mbtkw2yi\n",
       "                        </td>\n",
       "                    </tr>\n",
       "\n",
       "                    \n",
       "\n",
       "                    \n",
       "\n",
       "                </table>\n",
       "            </details>\n",
       "            </div>\n",
       "        </div>\n",
       "        \n",
       "        <div style=\"margin-bottom: 20px;\">\n",
       "            <div style=\"width: 24px; height: 24px; background-color: #DBF5FF; border: 3px solid #4CC9FF; border-radius: 5px; position: absolute;\"> </div>\n",
       "            <div style=\"margin-left: 48px;\">\n",
       "            <details>\n",
       "                <summary>\n",
       "                    <h4 style=\"margin-bottom: 0px; display: inline;\">Worker: 3</h4>\n",
       "                </summary>\n",
       "                <table style=\"width: 100%; text-align: left;\">\n",
       "                    <tr>\n",
       "                        <td style=\"text-align: left;\">\n",
       "                            <strong>Comm: </strong> tcp://127.0.0.1:42769\n",
       "                        </td>\n",
       "                        <td style=\"text-align: left;\">\n",
       "                            <strong>Total threads: </strong> 2\n",
       "                        </td>\n",
       "                    </tr>\n",
       "                    <tr>\n",
       "                        <td style=\"text-align: left;\">\n",
       "                            <strong>Dashboard: </strong> <a href=\"/user/halemohammad@clarku.edu/proxy/43823/status\" target=\"_blank\">/user/halemohammad@clarku.edu/proxy/43823/status</a>\n",
       "                        </td>\n",
       "                        <td style=\"text-align: left;\">\n",
       "                            <strong>Memory: </strong> 8.00 GiB\n",
       "                        </td>\n",
       "                    </tr>\n",
       "                    <tr>\n",
       "                        <td style=\"text-align: left;\">\n",
       "                            <strong>Nanny: </strong> tcp://127.0.0.1:43917\n",
       "                        </td>\n",
       "                        <td style=\"text-align: left;\"></td>\n",
       "                    </tr>\n",
       "                    <tr>\n",
       "                        <td colspan=\"2\" style=\"text-align: left;\">\n",
       "                            <strong>Local directory: </strong> /tmp/dask-scratch-space/worker-mg7pxgnj\n",
       "                        </td>\n",
       "                    </tr>\n",
       "\n",
       "                    \n",
       "\n",
       "                    \n",
       "\n",
       "                </table>\n",
       "            </details>\n",
       "            </div>\n",
       "        </div>\n",
       "        \n",
       "\n",
       "    </details>\n",
       "</div>\n",
       "\n",
       "        </details>\n",
       "    </div>\n",
       "</div>\n",
       "            </details>\n",
       "        \n",
       "\n",
       "    </div>\n",
       "</div>"
      ],
      "text/plain": [
       "<Client: 'tcp://127.0.0.1:41753' processes=4 threads=8, memory=32.00 GiB>"
      ]
     },
     "execution_count": 4,
     "metadata": {},
     "output_type": "execute_result"
    }
   ],
   "source": [
    "from dask.distributed import Client, LocalCluster\n",
    "cluster = LocalCluster()\n",
    "client = Client(cluster)\n",
    "client"
   ]
  },
  {
   "cell_type": "markdown",
   "id": "ca621f69-fe73-45b6-9ae5-ff53a8186123",
   "metadata": {},
   "source": [
    "### Read One CSV file"
   ]
  },
  {
   "cell_type": "markdown",
   "id": "e2b2ca93-70c2-47f4-b75e-fbce0e7bc6c8",
   "metadata": {},
   "source": [
    "Let's first load one CSV file and see how Dask Dataframe works. "
   ]
  },
  {
   "cell_type": "code",
   "execution_count": 5,
   "id": "452d022d-e62d-4329-9640-fea39170b93f",
   "metadata": {
    "tags": []
   },
   "outputs": [],
   "source": [
    "df = dd.read_csv(\"2022.csv\", dtype={'Q_FLAG': 'object'})"
   ]
  },
  {
   "cell_type": "markdown",
   "id": "b3829d0e-567f-4f8c-b5df-85a6766ae35c",
   "metadata": {},
   "source": [
    "You can check the number of partitions that Dask by defualt selects. "
   ]
  },
  {
   "cell_type": "code",
   "execution_count": 6,
   "id": "cd497f80-9942-42ec-b36a-ad25742cccc5",
   "metadata": {
    "tags": []
   },
   "outputs": [
    {
     "data": {
      "text/plain": [
       "21"
      ]
     },
     "execution_count": 6,
     "metadata": {},
     "output_type": "execute_result"
    }
   ],
   "source": [
    "df.npartitions"
   ]
  },
  {
   "cell_type": "markdown",
   "id": "8752de7e-6e81-4298-836f-6d47c260ea32",
   "metadata": {},
   "source": [
    "To change the number of partitions you need to define the `blocksize` in the `read_csv` function:"
   ]
  },
  {
   "cell_type": "code",
   "execution_count": 7,
   "id": "9cb10290-4be6-49c5-b580-61d3ae0f2838",
   "metadata": {
    "tags": []
   },
   "outputs": [],
   "source": [
    "df = dd.read_csv(\"2022.csv\", dtype={'Q_FLAG': 'object'}, blocksize=25e6)"
   ]
  },
  {
   "cell_type": "code",
   "execution_count": 8,
   "id": "2e64bcca-1475-4443-bcc4-725f8dac24c4",
   "metadata": {
    "tags": []
   },
   "outputs": [
    {
     "data": {
      "text/plain": [
       "54"
      ]
     },
     "execution_count": 8,
     "metadata": {},
     "output_type": "execute_result"
    }
   ],
   "source": [
    "df.npartitions"
   ]
  },
  {
   "cell_type": "markdown",
   "id": "4e6af28c-78df-49a8-9afb-b2bc6b1d6600",
   "metadata": {},
   "source": [
    "The following line is an unnecessary step and you should not do it regularly. \n",
    "We will just try it to see how dd loads the data. "
   ]
  },
  {
   "cell_type": "code",
   "execution_count": 9,
   "id": "d094fe96-55cb-4151-825a-b754a0e4ac14",
   "metadata": {
    "tags": []
   },
   "outputs": [
    {
     "data": {
      "text/html": [
       "<div>\n",
       "<style scoped>\n",
       "    .dataframe tbody tr th:only-of-type {\n",
       "        vertical-align: middle;\n",
       "    }\n",
       "\n",
       "    .dataframe tbody tr th {\n",
       "        vertical-align: top;\n",
       "    }\n",
       "\n",
       "    .dataframe thead th {\n",
       "        text-align: right;\n",
       "    }\n",
       "</style>\n",
       "<table border=\"1\" class=\"dataframe\">\n",
       "  <thead>\n",
       "    <tr style=\"text-align: right;\">\n",
       "      <th></th>\n",
       "      <th>ID</th>\n",
       "      <th>DATE</th>\n",
       "      <th>ELEMENT</th>\n",
       "      <th>DATA_VALUE</th>\n",
       "      <th>M_FLAG</th>\n",
       "      <th>Q_FLAG</th>\n",
       "      <th>S_FLAG</th>\n",
       "      <th>OBS_TIME</th>\n",
       "    </tr>\n",
       "  </thead>\n",
       "  <tbody>\n",
       "    <tr>\n",
       "      <th>0</th>\n",
       "      <td>AE000041196</td>\n",
       "      <td>20220101</td>\n",
       "      <td>TAVG</td>\n",
       "      <td>204</td>\n",
       "      <td>H</td>\n",
       "      <td>NaN</td>\n",
       "      <td>S</td>\n",
       "      <td>NaN</td>\n",
       "    </tr>\n",
       "    <tr>\n",
       "      <th>1</th>\n",
       "      <td>AEM00041194</td>\n",
       "      <td>20220101</td>\n",
       "      <td>TAVG</td>\n",
       "      <td>211</td>\n",
       "      <td>H</td>\n",
       "      <td>NaN</td>\n",
       "      <td>S</td>\n",
       "      <td>NaN</td>\n",
       "    </tr>\n",
       "    <tr>\n",
       "      <th>2</th>\n",
       "      <td>AEM00041217</td>\n",
       "      <td>20220101</td>\n",
       "      <td>TAVG</td>\n",
       "      <td>209</td>\n",
       "      <td>H</td>\n",
       "      <td>NaN</td>\n",
       "      <td>S</td>\n",
       "      <td>NaN</td>\n",
       "    </tr>\n",
       "    <tr>\n",
       "      <th>3</th>\n",
       "      <td>AEM00041218</td>\n",
       "      <td>20220101</td>\n",
       "      <td>TAVG</td>\n",
       "      <td>207</td>\n",
       "      <td>H</td>\n",
       "      <td>NaN</td>\n",
       "      <td>S</td>\n",
       "      <td>NaN</td>\n",
       "    </tr>\n",
       "    <tr>\n",
       "      <th>4</th>\n",
       "      <td>AG000060390</td>\n",
       "      <td>20220101</td>\n",
       "      <td>TAVG</td>\n",
       "      <td>121</td>\n",
       "      <td>H</td>\n",
       "      <td>NaN</td>\n",
       "      <td>S</td>\n",
       "      <td>NaN</td>\n",
       "    </tr>\n",
       "    <tr>\n",
       "      <th>...</th>\n",
       "      <td>...</td>\n",
       "      <td>...</td>\n",
       "      <td>...</td>\n",
       "      <td>...</td>\n",
       "      <td>...</td>\n",
       "      <td>...</td>\n",
       "      <td>...</td>\n",
       "      <td>...</td>\n",
       "    </tr>\n",
       "    <tr>\n",
       "      <th>698661</th>\n",
       "      <td>WF000917530</td>\n",
       "      <td>20221231</td>\n",
       "      <td>TAVG</td>\n",
       "      <td>283</td>\n",
       "      <td>H</td>\n",
       "      <td>NaN</td>\n",
       "      <td>S</td>\n",
       "      <td>NaN</td>\n",
       "    </tr>\n",
       "    <tr>\n",
       "      <th>698662</th>\n",
       "      <td>WQW00041606</td>\n",
       "      <td>20221231</td>\n",
       "      <td>TAVG</td>\n",
       "      <td>278</td>\n",
       "      <td>H</td>\n",
       "      <td>NaN</td>\n",
       "      <td>S</td>\n",
       "      <td>NaN</td>\n",
       "    </tr>\n",
       "    <tr>\n",
       "      <th>698663</th>\n",
       "      <td>WZ004455110</td>\n",
       "      <td>20221231</td>\n",
       "      <td>TAVG</td>\n",
       "      <td>203</td>\n",
       "      <td>H</td>\n",
       "      <td>NaN</td>\n",
       "      <td>S</td>\n",
       "      <td>NaN</td>\n",
       "    </tr>\n",
       "    <tr>\n",
       "      <th>698664</th>\n",
       "      <td>ZI000067775</td>\n",
       "      <td>20221231</td>\n",
       "      <td>TAVG</td>\n",
       "      <td>206</td>\n",
       "      <td>H</td>\n",
       "      <td>NaN</td>\n",
       "      <td>S</td>\n",
       "      <td>NaN</td>\n",
       "    </tr>\n",
       "    <tr>\n",
       "      <th>698665</th>\n",
       "      <td>ZI000067975</td>\n",
       "      <td>20221231</td>\n",
       "      <td>TAVG</td>\n",
       "      <td>202</td>\n",
       "      <td>H</td>\n",
       "      <td>NaN</td>\n",
       "      <td>S</td>\n",
       "      <td>NaN</td>\n",
       "    </tr>\n",
       "  </tbody>\n",
       "</table>\n",
       "<p>37816959 rows × 8 columns</p>\n",
       "</div>"
      ],
      "text/plain": [
       "                 ID      DATE ELEMENT  DATA_VALUE M_FLAG Q_FLAG S_FLAG  \\\n",
       "0       AE000041196  20220101    TAVG         204      H    NaN      S   \n",
       "1       AEM00041194  20220101    TAVG         211      H    NaN      S   \n",
       "2       AEM00041217  20220101    TAVG         209      H    NaN      S   \n",
       "3       AEM00041218  20220101    TAVG         207      H    NaN      S   \n",
       "4       AG000060390  20220101    TAVG         121      H    NaN      S   \n",
       "...             ...       ...     ...         ...    ...    ...    ...   \n",
       "698661  WF000917530  20221231    TAVG         283      H    NaN      S   \n",
       "698662  WQW00041606  20221231    TAVG         278      H    NaN      S   \n",
       "698663  WZ004455110  20221231    TAVG         203      H    NaN      S   \n",
       "698664  ZI000067775  20221231    TAVG         206      H    NaN      S   \n",
       "698665  ZI000067975  20221231    TAVG         202      H    NaN      S   \n",
       "\n",
       "        OBS_TIME  \n",
       "0            NaN  \n",
       "1            NaN  \n",
       "2            NaN  \n",
       "3            NaN  \n",
       "4            NaN  \n",
       "...          ...  \n",
       "698661       NaN  \n",
       "698662       NaN  \n",
       "698663       NaN  \n",
       "698664       NaN  \n",
       "698665       NaN  \n",
       "\n",
       "[37816959 rows x 8 columns]"
      ]
     },
     "execution_count": 9,
     "metadata": {},
     "output_type": "execute_result"
    }
   ],
   "source": [
    "df.compute()"
   ]
  },
  {
   "cell_type": "code",
   "execution_count": 10,
   "id": "b3967cbd-4965-49b8-9c0e-7983f797fb66",
   "metadata": {
    "tags": []
   },
   "outputs": [
    {
     "data": {
      "text/html": [
       "<div><strong>Dask DataFrame Structure:</strong></div>\n",
       "<div>\n",
       "<style scoped>\n",
       "    .dataframe tbody tr th:only-of-type {\n",
       "        vertical-align: middle;\n",
       "    }\n",
       "\n",
       "    .dataframe tbody tr th {\n",
       "        vertical-align: top;\n",
       "    }\n",
       "\n",
       "    .dataframe thead th {\n",
       "        text-align: right;\n",
       "    }\n",
       "</style>\n",
       "<table border=\"1\" class=\"dataframe\">\n",
       "  <thead>\n",
       "    <tr style=\"text-align: right;\">\n",
       "      <th></th>\n",
       "      <th>ID</th>\n",
       "      <th>DATE</th>\n",
       "      <th>ELEMENT</th>\n",
       "      <th>DATA_VALUE</th>\n",
       "      <th>M_FLAG</th>\n",
       "      <th>Q_FLAG</th>\n",
       "      <th>S_FLAG</th>\n",
       "      <th>OBS_TIME</th>\n",
       "    </tr>\n",
       "    <tr>\n",
       "      <th>npartitions=54</th>\n",
       "      <th></th>\n",
       "      <th></th>\n",
       "      <th></th>\n",
       "      <th></th>\n",
       "      <th></th>\n",
       "      <th></th>\n",
       "      <th></th>\n",
       "      <th></th>\n",
       "    </tr>\n",
       "  </thead>\n",
       "  <tbody>\n",
       "    <tr>\n",
       "      <th></th>\n",
       "      <td>object</td>\n",
       "      <td>int64</td>\n",
       "      <td>object</td>\n",
       "      <td>int64</td>\n",
       "      <td>object</td>\n",
       "      <td>object</td>\n",
       "      <td>object</td>\n",
       "      <td>float64</td>\n",
       "    </tr>\n",
       "    <tr>\n",
       "      <th></th>\n",
       "      <td>...</td>\n",
       "      <td>...</td>\n",
       "      <td>...</td>\n",
       "      <td>...</td>\n",
       "      <td>...</td>\n",
       "      <td>...</td>\n",
       "      <td>...</td>\n",
       "      <td>...</td>\n",
       "    </tr>\n",
       "    <tr>\n",
       "      <th>...</th>\n",
       "      <td>...</td>\n",
       "      <td>...</td>\n",
       "      <td>...</td>\n",
       "      <td>...</td>\n",
       "      <td>...</td>\n",
       "      <td>...</td>\n",
       "      <td>...</td>\n",
       "      <td>...</td>\n",
       "    </tr>\n",
       "    <tr>\n",
       "      <th></th>\n",
       "      <td>...</td>\n",
       "      <td>...</td>\n",
       "      <td>...</td>\n",
       "      <td>...</td>\n",
       "      <td>...</td>\n",
       "      <td>...</td>\n",
       "      <td>...</td>\n",
       "      <td>...</td>\n",
       "    </tr>\n",
       "    <tr>\n",
       "      <th></th>\n",
       "      <td>...</td>\n",
       "      <td>...</td>\n",
       "      <td>...</td>\n",
       "      <td>...</td>\n",
       "      <td>...</td>\n",
       "      <td>...</td>\n",
       "      <td>...</td>\n",
       "      <td>...</td>\n",
       "    </tr>\n",
       "  </tbody>\n",
       "</table>\n",
       "</div>\n",
       "<div>Dask Name: read-csv, 1 graph layer</div>"
      ],
      "text/plain": [
       "Dask DataFrame Structure:\n",
       "                    ID   DATE ELEMENT DATA_VALUE  M_FLAG  Q_FLAG  S_FLAG OBS_TIME\n",
       "npartitions=54                                                                   \n",
       "                object  int64  object      int64  object  object  object  float64\n",
       "                   ...    ...     ...        ...     ...     ...     ...      ...\n",
       "...                ...    ...     ...        ...     ...     ...     ...      ...\n",
       "                   ...    ...     ...        ...     ...     ...     ...      ...\n",
       "                   ...    ...     ...        ...     ...     ...     ...      ...\n",
       "Dask Name: read-csv, 1 graph layer"
      ]
     },
     "execution_count": 10,
     "metadata": {},
     "output_type": "execute_result"
    }
   ],
   "source": [
    "df"
   ]
  },
  {
   "cell_type": "markdown",
   "id": "5752139a-fe3f-46f0-a643-b723aa5fc54c",
   "metadata": {},
   "source": [
    "As you see, `df` is empty again. This is because Dask does not store the outputs of the `df.compute()` back in `df`. If you need to keep these values, you should instead run `df = df.compute()`. "
   ]
  },
  {
   "cell_type": "markdown",
   "id": "2c8bda25-43f0-49f2-8caa-6f4e0d55f6a4",
   "metadata": {},
   "source": [
    "### Read Multiple CSVs"
   ]
  },
  {
   "cell_type": "markdown",
   "id": "ef506c2a-b101-4a1a-8eb5-e5c3be974fed",
   "metadata": {},
   "source": [
    "Here, we will define a new df and load multiple CSV files. "
   ]
  },
  {
   "cell_type": "code",
   "execution_count": 11,
   "id": "c12bb7db-66ec-4185-b976-433b0bbd6bf7",
   "metadata": {
    "tags": []
   },
   "outputs": [],
   "source": [
    "large_df = dd.read_csv(\"*.csv\", dtype={'Q_FLAG': 'object'}, blocksize=25e6)"
   ]
  },
  {
   "cell_type": "code",
   "execution_count": 12,
   "id": "77ed7865-916d-477d-acf1-f206279acb48",
   "metadata": {
    "tags": []
   },
   "outputs": [
    {
     "data": {
      "text/plain": [
       "196"
      ]
     },
     "execution_count": 12,
     "metadata": {},
     "output_type": "execute_result"
    }
   ],
   "source": [
    "large_df.npartitions"
   ]
  },
  {
   "cell_type": "code",
   "execution_count": 13,
   "id": "2a829bca-5ccc-4f1d-8762-d2c63346ca23",
   "metadata": {
    "tags": []
   },
   "outputs": [
    {
     "data": {
      "text/html": [
       "<div><strong>Dask DataFrame Structure:</strong></div>\n",
       "<div>\n",
       "<style scoped>\n",
       "    .dataframe tbody tr th:only-of-type {\n",
       "        vertical-align: middle;\n",
       "    }\n",
       "\n",
       "    .dataframe tbody tr th {\n",
       "        vertical-align: top;\n",
       "    }\n",
       "\n",
       "    .dataframe thead th {\n",
       "        text-align: right;\n",
       "    }\n",
       "</style>\n",
       "<table border=\"1\" class=\"dataframe\">\n",
       "  <thead>\n",
       "    <tr style=\"text-align: right;\">\n",
       "      <th></th>\n",
       "      <th>ID</th>\n",
       "      <th>DATE</th>\n",
       "      <th>ELEMENT</th>\n",
       "      <th>DATA_VALUE</th>\n",
       "      <th>M_FLAG</th>\n",
       "      <th>Q_FLAG</th>\n",
       "      <th>S_FLAG</th>\n",
       "      <th>OBS_TIME</th>\n",
       "    </tr>\n",
       "    <tr>\n",
       "      <th>npartitions=196</th>\n",
       "      <th></th>\n",
       "      <th></th>\n",
       "      <th></th>\n",
       "      <th></th>\n",
       "      <th></th>\n",
       "      <th></th>\n",
       "      <th></th>\n",
       "      <th></th>\n",
       "    </tr>\n",
       "  </thead>\n",
       "  <tbody>\n",
       "    <tr>\n",
       "      <th></th>\n",
       "      <td>object</td>\n",
       "      <td>int64</td>\n",
       "      <td>object</td>\n",
       "      <td>int64</td>\n",
       "      <td>object</td>\n",
       "      <td>object</td>\n",
       "      <td>object</td>\n",
       "      <td>float64</td>\n",
       "    </tr>\n",
       "    <tr>\n",
       "      <th></th>\n",
       "      <td>...</td>\n",
       "      <td>...</td>\n",
       "      <td>...</td>\n",
       "      <td>...</td>\n",
       "      <td>...</td>\n",
       "      <td>...</td>\n",
       "      <td>...</td>\n",
       "      <td>...</td>\n",
       "    </tr>\n",
       "    <tr>\n",
       "      <th>...</th>\n",
       "      <td>...</td>\n",
       "      <td>...</td>\n",
       "      <td>...</td>\n",
       "      <td>...</td>\n",
       "      <td>...</td>\n",
       "      <td>...</td>\n",
       "      <td>...</td>\n",
       "      <td>...</td>\n",
       "    </tr>\n",
       "    <tr>\n",
       "      <th></th>\n",
       "      <td>...</td>\n",
       "      <td>...</td>\n",
       "      <td>...</td>\n",
       "      <td>...</td>\n",
       "      <td>...</td>\n",
       "      <td>...</td>\n",
       "      <td>...</td>\n",
       "      <td>...</td>\n",
       "    </tr>\n",
       "    <tr>\n",
       "      <th></th>\n",
       "      <td>...</td>\n",
       "      <td>...</td>\n",
       "      <td>...</td>\n",
       "      <td>...</td>\n",
       "      <td>...</td>\n",
       "      <td>...</td>\n",
       "      <td>...</td>\n",
       "      <td>...</td>\n",
       "    </tr>\n",
       "  </tbody>\n",
       "</table>\n",
       "</div>\n",
       "<div>Dask Name: read-csv, 1 graph layer</div>"
      ],
      "text/plain": [
       "Dask DataFrame Structure:\n",
       "                     ID   DATE ELEMENT DATA_VALUE  M_FLAG  Q_FLAG  S_FLAG OBS_TIME\n",
       "npartitions=196                                                                   \n",
       "                 object  int64  object      int64  object  object  object  float64\n",
       "                    ...    ...     ...        ...     ...     ...     ...      ...\n",
       "...                 ...    ...     ...        ...     ...     ...     ...      ...\n",
       "                    ...    ...     ...        ...     ...     ...     ...      ...\n",
       "                    ...    ...     ...        ...     ...     ...     ...      ...\n",
       "Dask Name: read-csv, 1 graph layer"
      ]
     },
     "execution_count": 13,
     "metadata": {},
     "output_type": "execute_result"
    }
   ],
   "source": [
    "large_df"
   ]
  },
  {
   "cell_type": "code",
   "execution_count": 14,
   "id": "f9a22191-f9be-46b9-be65-396c1fa39b43",
   "metadata": {
    "tags": []
   },
   "outputs": [],
   "source": [
    "# This is going to fail, do not run it. \n",
    "# large_df.compute()"
   ]
  },
  {
   "cell_type": "markdown",
   "id": "2dcedaea-419d-438d-ae0a-c9f120d066a3",
   "metadata": {},
   "source": [
    "Let's calculate the mean of each type of observation in whole dataset. "
   ]
  },
  {
   "cell_type": "code",
   "execution_count": 15,
   "id": "e50d2761-3810-4020-b01d-d051918916b6",
   "metadata": {
    "tags": []
   },
   "outputs": [],
   "source": [
    "mean_values = large_df.groupby(\"ELEMENT\")[\"DATA_VALUE\"].mean()"
   ]
  },
  {
   "cell_type": "code",
   "execution_count": 16,
   "id": "2507c91f-814b-4c80-a875-327a9da8dedb",
   "metadata": {
    "tags": []
   },
   "outputs": [
    {
     "data": {
      "text/plain": [
       "Dask Series Structure:\n",
       "npartitions=1\n",
       "    float64\n",
       "        ...\n",
       "Name: DATA_VALUE, dtype: float64\n",
       "Dask Name: truediv, 7 graph layers"
      ]
     },
     "execution_count": 16,
     "metadata": {},
     "output_type": "execute_result"
    }
   ],
   "source": [
    "mean_values"
   ]
  },
  {
   "cell_type": "code",
   "execution_count": 17,
   "id": "242dfa6f-6be8-4da0-8f5b-6c84ee62cf51",
   "metadata": {
    "tags": []
   },
   "outputs": [
    {
     "data": {
      "text/plain": [
       "ELEMENT\n",
       "ADPT       59.341177\n",
       "ASLP    10160.615552\n",
       "ASTP     9706.444546\n",
       "AWBT       96.504325\n",
       "AWDR      465.104172\n",
       "            ...     \n",
       "DASF        2.545455\n",
       "MDSF      210.227273\n",
       "WT10        1.000000\n",
       "WT18        1.000000\n",
       "WT17        1.000000\n",
       "Name: DATA_VALUE, Length: 75, dtype: float64"
      ]
     },
     "execution_count": 17,
     "metadata": {},
     "output_type": "execute_result"
    }
   ],
   "source": [
    "mean_values.compute()"
   ]
  },
  {
   "cell_type": "markdown",
   "id": "8ac0694e-0280-4a34-9313-6c148c4816e0",
   "metadata": {},
   "source": [
    "Next, we will select a station in Worcester, MA and calculate the mean for each observation. \n",
    "You can see the list of all stations on NOAA's website [here](https://www.ncei.noaa.gov/pub/data/ghcn/daily/ghcnd-stations.txt). "
   ]
  },
  {
   "cell_type": "code",
   "execution_count": 18,
   "id": "aad68ba6-9a52-4925-86fa-21fda28a0525",
   "metadata": {
    "tags": []
   },
   "outputs": [],
   "source": [
    "worcester_df = large_df[large_df[\"ID\"].isin([\"US1MAWR0097\"])]"
   ]
  },
  {
   "cell_type": "code",
   "execution_count": 19,
   "id": "52eaec1c-b2b6-4c11-8edf-195b7a8e7f53",
   "metadata": {
    "tags": []
   },
   "outputs": [
    {
     "data": {
      "text/html": [
       "<div><strong>Dask DataFrame Structure:</strong></div>\n",
       "<div>\n",
       "<style scoped>\n",
       "    .dataframe tbody tr th:only-of-type {\n",
       "        vertical-align: middle;\n",
       "    }\n",
       "\n",
       "    .dataframe tbody tr th {\n",
       "        vertical-align: top;\n",
       "    }\n",
       "\n",
       "    .dataframe thead th {\n",
       "        text-align: right;\n",
       "    }\n",
       "</style>\n",
       "<table border=\"1\" class=\"dataframe\">\n",
       "  <thead>\n",
       "    <tr style=\"text-align: right;\">\n",
       "      <th></th>\n",
       "      <th>ID</th>\n",
       "      <th>DATE</th>\n",
       "      <th>ELEMENT</th>\n",
       "      <th>DATA_VALUE</th>\n",
       "      <th>M_FLAG</th>\n",
       "      <th>Q_FLAG</th>\n",
       "      <th>S_FLAG</th>\n",
       "      <th>OBS_TIME</th>\n",
       "    </tr>\n",
       "    <tr>\n",
       "      <th>npartitions=196</th>\n",
       "      <th></th>\n",
       "      <th></th>\n",
       "      <th></th>\n",
       "      <th></th>\n",
       "      <th></th>\n",
       "      <th></th>\n",
       "      <th></th>\n",
       "      <th></th>\n",
       "    </tr>\n",
       "  </thead>\n",
       "  <tbody>\n",
       "    <tr>\n",
       "      <th></th>\n",
       "      <td>object</td>\n",
       "      <td>int64</td>\n",
       "      <td>object</td>\n",
       "      <td>int64</td>\n",
       "      <td>object</td>\n",
       "      <td>object</td>\n",
       "      <td>object</td>\n",
       "      <td>float64</td>\n",
       "    </tr>\n",
       "    <tr>\n",
       "      <th></th>\n",
       "      <td>...</td>\n",
       "      <td>...</td>\n",
       "      <td>...</td>\n",
       "      <td>...</td>\n",
       "      <td>...</td>\n",
       "      <td>...</td>\n",
       "      <td>...</td>\n",
       "      <td>...</td>\n",
       "    </tr>\n",
       "    <tr>\n",
       "      <th>...</th>\n",
       "      <td>...</td>\n",
       "      <td>...</td>\n",
       "      <td>...</td>\n",
       "      <td>...</td>\n",
       "      <td>...</td>\n",
       "      <td>...</td>\n",
       "      <td>...</td>\n",
       "      <td>...</td>\n",
       "    </tr>\n",
       "    <tr>\n",
       "      <th></th>\n",
       "      <td>...</td>\n",
       "      <td>...</td>\n",
       "      <td>...</td>\n",
       "      <td>...</td>\n",
       "      <td>...</td>\n",
       "      <td>...</td>\n",
       "      <td>...</td>\n",
       "      <td>...</td>\n",
       "    </tr>\n",
       "    <tr>\n",
       "      <th></th>\n",
       "      <td>...</td>\n",
       "      <td>...</td>\n",
       "      <td>...</td>\n",
       "      <td>...</td>\n",
       "      <td>...</td>\n",
       "      <td>...</td>\n",
       "      <td>...</td>\n",
       "      <td>...</td>\n",
       "    </tr>\n",
       "  </tbody>\n",
       "</table>\n",
       "</div>\n",
       "<div>Dask Name: getitem, 5 graph layers</div>"
      ],
      "text/plain": [
       "Dask DataFrame Structure:\n",
       "                     ID   DATE ELEMENT DATA_VALUE  M_FLAG  Q_FLAG  S_FLAG OBS_TIME\n",
       "npartitions=196                                                                   \n",
       "                 object  int64  object      int64  object  object  object  float64\n",
       "                    ...    ...     ...        ...     ...     ...     ...      ...\n",
       "...                 ...    ...     ...        ...     ...     ...     ...      ...\n",
       "                    ...    ...     ...        ...     ...     ...     ...      ...\n",
       "                    ...    ...     ...        ...     ...     ...     ...      ...\n",
       "Dask Name: getitem, 5 graph layers"
      ]
     },
     "execution_count": 19,
     "metadata": {},
     "output_type": "execute_result"
    }
   ],
   "source": [
    "worcester_df"
   ]
  },
  {
   "cell_type": "code",
   "execution_count": 20,
   "id": "f100d120-6fc1-445f-9b30-669081f65200",
   "metadata": {
    "tags": []
   },
   "outputs": [],
   "source": [
    "worcester_mean = worcester_df.groupby(\"ELEMENT\")[\"DATA_VALUE\"].mean()"
   ]
  },
  {
   "cell_type": "code",
   "execution_count": 21,
   "id": "93ec22a0-f675-4163-91e3-9f38fae52d43",
   "metadata": {
    "tags": []
   },
   "outputs": [
    {
     "data": {
      "text/plain": [
       "Dask Series Structure:\n",
       "npartitions=1\n",
       "    float64\n",
       "        ...\n",
       "Name: DATA_VALUE, dtype: float64\n",
       "Dask Name: truediv, 11 graph layers"
      ]
     },
     "execution_count": 21,
     "metadata": {},
     "output_type": "execute_result"
    }
   ],
   "source": [
    "worcester_mean"
   ]
  },
  {
   "cell_type": "markdown",
   "id": "ddb21958-9bf2-4b8f-9717-18dde7927c8e",
   "metadata": {},
   "source": [
    "Now, we want to calculate the mean but we are interested to keep these values in memory. So we will assign the output to a new variable `worcester_mean_values`:"
   ]
  },
  {
   "cell_type": "code",
   "execution_count": 22,
   "id": "4e38aadf-384c-4b1f-8c04-3982a32986e2",
   "metadata": {
    "tags": []
   },
   "outputs": [],
   "source": [
    "worcester_mean_values = worcester_mean.compute()"
   ]
  },
  {
   "cell_type": "code",
   "execution_count": 23,
   "id": "1bd28f16-720f-4807-8b37-a0c2197cfab2",
   "metadata": {
    "tags": []
   },
   "outputs": [
    {
     "data": {
      "text/plain": [
       "ELEMENT\n",
       "PRCP     53.095327\n",
       "SNOW      2.433884\n",
       "SNWD    158.750000\n",
       "WESD      0.000000\n",
       "WESF      0.000000\n",
       "Name: DATA_VALUE, dtype: float64"
      ]
     },
     "execution_count": 23,
     "metadata": {},
     "output_type": "execute_result"
    }
   ],
   "source": [
    "worcester_mean_values"
   ]
  },
  {
   "cell_type": "markdown",
   "id": "3bcf63e0-df71-4043-8054-0a45cb89f84f",
   "metadata": {},
   "source": [
    "### Task: find the station with the highest number of snow days"
   ]
  },
  {
   "cell_type": "markdown",
   "id": "37be823c-a71d-4c5a-a421-7c9fe0d6b505",
   "metadata": {},
   "source": [
    "In the following, we aim to find the station that has the highest number of snow days across years 2020-2023:"
   ]
  },
  {
   "cell_type": "code",
   "execution_count": 24,
   "id": "1dc3145c-47f9-4b2d-be3e-a34c7a940a45",
   "metadata": {
    "tags": []
   },
   "outputs": [],
   "source": [
    "snow_df = large_df[large_df[\"ELEMENT\"].isin([\"SNOW\"])]"
   ]
  },
  {
   "cell_type": "code",
   "execution_count": 25,
   "id": "dc4fb317-6d41-4aca-90b7-dc762212a91e",
   "metadata": {
    "tags": []
   },
   "outputs": [],
   "source": [
    "snow_positive_df = snow_df[snow_df[\"DATA_VALUE\"]>0]"
   ]
  },
  {
   "cell_type": "code",
   "execution_count": 26,
   "id": "a3d044af-9905-4835-a8f8-a568289f501e",
   "metadata": {
    "tags": []
   },
   "outputs": [],
   "source": [
    "station_counts = snow_positive_df[\"ID\"].value_counts().compute()"
   ]
  },
  {
   "cell_type": "code",
   "execution_count": 27,
   "id": "bf58ad13-fce2-4156-a1f8-da42ca31eb1b",
   "metadata": {
    "tags": []
   },
   "outputs": [
    {
     "data": {
      "text/plain": [
       "ID\n",
       "USW00014755    525\n",
       "CA002400306    420\n",
       "US1MIBG0003    412\n",
       "USC00502610    396\n",
       "USC00204668    378\n",
       "              ... \n",
       "US1TXMCL043      1\n",
       "US1NYNS0036      1\n",
       "US1ALMS0035      1\n",
       "US1NYNS0016      1\n",
       "US1NHCR0043      1\n",
       "Name: count, Length: 20255, dtype: int64"
      ]
     },
     "execution_count": 27,
     "metadata": {},
     "output_type": "execute_result"
    }
   ],
   "source": [
    "station_counts"
   ]
  },
  {
   "cell_type": "code",
   "execution_count": null,
   "id": "8c9a8798-e119-4b25-bc6d-bee40f707b1a",
   "metadata": {},
   "outputs": [],
   "source": []
  }
 ],
 "metadata": {
  "kernelspec": {
   "display_name": "Python 3 (ipykernel)",
   "language": "python",
   "name": "python3"
  },
  "language_info": {
   "codemirror_mode": {
    "name": "ipython",
    "version": 3
   },
   "file_extension": ".py",
   "mimetype": "text/x-python",
   "name": "python",
   "nbconvert_exporter": "python",
   "pygments_lexer": "ipython3",
   "version": "3.11.4"
  }
 },
 "nbformat": 4,
 "nbformat_minor": 5
}
