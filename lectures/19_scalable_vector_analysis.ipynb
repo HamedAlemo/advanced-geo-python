{
 "cells": [
  {
   "cell_type": "markdown",
   "id": "6d705564-8f54-4a68-bbeb-f38b8a7da005",
   "metadata": {},
   "source": [
    "# Scalable Vector Data Analysis"
   ]
  },
  {
   "cell_type": "markdown",
   "id": "4c94bad2-1817-4d70-ae77-5a3ffe8ee32c",
   "metadata": {},
   "source": [
    "You can access this notebook (in a Docker image) on this [GitHub repo](https://github.com/HamedAlemo/vector-data-tutorial)."
   ]
  },
  {
   "cell_type": "markdown",
   "id": "5b17590a-3bc8-4382-b848-06d42ef0c03e",
   "metadata": {},
   "source": [
    "In this lecture, we are going to use `Dask-GeoPandas` package to read a large vector dataset from [Source Cooperative](https://source.coop). Then use Dask parrallel computation to apply a spatial join operation to two geospatial DataFrames. "
   ]
  },
  {
   "cell_type": "markdown",
   "id": "e1f6f6cf-06b3-4d06-8f7e-6120bd63bad5",
   "metadata": {},
   "source": [
    "Our target dataset is the `Google-Microsoft Open Buildings - combined by VIDA` dataset hosted on [Source Cooperative](https://source.coop/repositories/vida/google-microsoft-open-buildings/description). This is a combined version of the [Google](https://sites.research.google/open-buildings/) and [Microsoft](https://planetarycomputer.microsoft.com/dataset/ms-buildings) Open Buildings datasets and it has files in GeoParquet format hosted on AWS S3 bucket. Read the dataset description to familiarize yourself with the dataset and its structure. "
   ]
  },
  {
   "cell_type": "markdown",
   "id": "612d639f-e53a-4652-8b45-808e638fcea8",
   "metadata": {},
   "source": [
    "GeoParquet is a relatively new and open data format for column-oriented geospatial data. This format is build on the existing Apache Parquet format which is a very powerful format replacing CSV. You can check the specification [here](https://geoparquet.org/), and read more about the format on [this website](https://geoparquet.org/). In short, this format is interoperable, compressed and designed to work with large scale datasets. "
   ]
  },
  {
   "cell_type": "markdown",
   "id": "70473036-9e73-4aa3-b92c-30011f002eb5",
   "metadata": {},
   "source": [
    "## Source Cooperative"
   ]
  },
  {
   "cell_type": "markdown",
   "id": "3c3f3ad3-cabe-4939-b6cc-ebcd1b48d18b",
   "metadata": {},
   "source": [
    "Source Cooperative is a neutral, non-profit data-sharing utility that allows trusted organizations to share data without purchasing a data portal SaaS subscription or managing infrastructure. Source Cooperative is managed by Radiant Earth, and hosts 10s of datasets on its repository. "
   ]
  },
  {
   "cell_type": "markdown",
   "id": "9d8b2e3b-32ce-4a1e-bc3b-cd49ea6193f9",
   "metadata": {},
   "source": [
    "In order to access/download data, you need to create a free account on Source Cooperative. Click on Sign in/up at the top of the page [here](https://source.coop/), and follow the steps to create an account. Make sure to use a non-Clark email to keep your account active after your graduation. "
   ]
  },
  {
   "cell_type": "markdown",
   "id": "28ba37a3-7e5c-472e-b8c7-4e3eb1e90349",
   "metadata": {},
   "source": [
    "### AWS Set up"
   ]
  },
  {
   "cell_type": "markdown",
   "id": "532b0455-5d1d-4ff0-abde-a4b3c69ed369",
   "metadata": {},
   "source": [
    "All data on Source Cooperative, are hosted on AWS S3 bucket. In order to access them, you need  credentials that you can generate on Source Cooperative website. Atfer logging in, click on your name at the top right corner, and then click on your username. Then navigate to \"Manage\" page on the left side. At the bottom of this page you will find a section called \"API Keys\". If no key has been generated before, generate a new one and then copy the values for each of the following keys, and paste them in the following cell: "
   ]
  },
  {
   "cell_type": "code",
   "execution_count": 1,
   "id": "fa416a40-1579-4401-9574-bf78a9853b3d",
   "metadata": {
    "tags": []
   },
   "outputs": [],
   "source": [
    "AWS_ACCESS_KEY_ID = \"<YOUR ACCESS KEY>\"\n",
    "AWS_SECRET_ACCESS_KEY = \"<YOUR SECRET ACCESS KEY>\""
   ]
  },
  {
   "cell_type": "markdown",
   "id": "1e01223d-80d9-4be9-8cc6-ab0dfcd276f8",
   "metadata": {},
   "source": [
    "Next, you need to create a s3 client from `boto3` library using your Source Cooperative credentials:"
   ]
  },
  {
   "cell_type": "code",
   "execution_count": 2,
   "id": "071510f4-31c5-42b4-b968-3e77986e8363",
   "metadata": {
    "tags": []
   },
   "outputs": [],
   "source": [
    "import boto3\n",
    "s3_client = boto3.client('s3',\n",
    "                         aws_access_key_id = AWS_ACCESS_KEY_ID, \n",
    "                         aws_secret_access_key = AWS_SECRET_ACCESS_KEY,\n",
    "                         endpoint_url='https://data.source.coop'\n",
    "                        )"
   ]
  },
  {
   "cell_type": "markdown",
   "id": "234ea0ec-dcd9-4b86-a122-e7dc67ea0b7d",
   "metadata": {},
   "source": [
    "## Download and Load Buildings Footprint Data into Dask-GeoPandas"
   ]
  },
  {
   "cell_type": "markdown",
   "id": "bc3f4a4a-0cd5-4374-82be-aa070c922f6a",
   "metadata": {},
   "source": [
    "First, we start a new Dask cluster:"
   ]
  },
  {
   "cell_type": "code",
   "execution_count": 3,
   "id": "779d87e1-e10b-4b05-a3ec-04882781a0db",
   "metadata": {
    "tags": []
   },
   "outputs": [
    {
     "name": "stdout",
     "output_type": "stream",
     "text": [
      "http://127.0.0.1:8787/status\n"
     ]
    },
    {
     "name": "stderr",
     "output_type": "stream",
     "text": [
      "2024-11-12 04:21:51,092 - distributed.shuffle._scheduler_plugin - WARNING - Shuffle fdfed24b60e0cb5cbcfe34ef15878a42 initialized by task ('shuffle-transfer-fdfed24b60e0cb5cbcfe34ef15878a42', 4) executed on worker tcp://127.0.0.1:39441\n",
      "2024-11-12 04:22:07,442 - distributed.shuffle._scheduler_plugin - WARNING - Shuffle fdfed24b60e0cb5cbcfe34ef15878a42 deactivated due to stimulus 'task-finished-1731385327.4416423'\n"
     ]
    }
   ],
   "source": [
    "from dask.distributed import Client, LocalCluster\n",
    "cluster = LocalCluster()\n",
    "client = Client(cluster)\n",
    "print(client.dashboard_link)"
   ]
  },
  {
   "cell_type": "markdown",
   "id": "bfc17f34-db94-4882-a320-db619b110f6b",
   "metadata": {},
   "source": [
    "In this lecture, we are going to access the data from a specific country. As noted in the dataset description, you need the 3-letter country ISO name to access the corresponding file. You can look up the ISO name for your country of choice [here](https://www.iso.org/obp/ui/#search)."
   ]
  },
  {
   "cell_type": "markdown",
   "id": "d11502fe-4b43-4176-b55c-062c2d342a5a",
   "metadata": {},
   "source": [
    "You need to enter the ISO name and the EPSG corresponding to the UTM zone of your country of choice in the following:"
   ]
  },
  {
   "cell_type": "code",
   "execution_count": 4,
   "id": "013c6f6d-71a7-4c94-ad42-546643366487",
   "metadata": {
    "tags": []
   },
   "outputs": [],
   "source": [
    "#Rwanda\n",
    "country_code = \"RWA\"\n",
    "country_epsg = 32736"
   ]
  },
  {
   "cell_type": "markdown",
   "id": "d6263e98-8d4e-47d6-a0b8-9473885b2aac",
   "metadata": {},
   "source": [
    "Define a path to download the data:"
   ]
  },
  {
   "cell_type": "code",
   "execution_count": 5,
   "id": "546aef17-88de-4aa0-9795-3052b1fd06e3",
   "metadata": {},
   "outputs": [],
   "source": [
    "local_path = \"./data/\""
   ]
  },
  {
   "cell_type": "markdown",
   "id": "edb90f13-c430-4a49-81dd-a4e8385aae24",
   "metadata": {},
   "source": [
    "Let's import our function from `utils` module and run it. This function uses Dask-GeoPandas to lazy load the data from GeoParquet format into memory. "
   ]
  },
  {
   "cell_type": "code",
   "execution_count": 6,
   "id": "98b48513-a943-4ec6-8e38-a545395801b4",
   "metadata": {},
   "outputs": [],
   "source": [
    "from utils import get_google_microsoft_bldgs"
   ]
  },
  {
   "cell_type": "markdown",
   "id": "7c7d23e7-d758-4c22-9b49-dcbaea4b2c4d",
   "metadata": {},
   "source": [
    "The following cell downloads the geoparquet file from s3 bucket, and loads it into `Dask-GeoPandas` `GeoDataFrame`. We are using a default value of 256M for the blocksize in Dask. If you run into memory issue in the rest of the notebook, lower the blocksize and re-run the following cell. "
   ]
  },
  {
   "cell_type": "code",
   "execution_count": 7,
   "id": "6cd6ceaf-7c17-4d11-808a-3b7134ab9f46",
   "metadata": {},
   "outputs": [
    {
     "name": "stdout",
     "output_type": "stream",
     "text": [
      "File already exists locally. No download needed.\n"
     ]
    }
   ],
   "source": [
    "bldg_ddf = get_google_microsoft_bldgs(country_code, s3_client, local_path, blocksize = \"256M\")"
   ]
  },
  {
   "cell_type": "code",
   "execution_count": 8,
   "id": "b4cc9968-7c05-4df6-9dc1-4075f379f9f8",
   "metadata": {},
   "outputs": [
    {
     "data": {
      "text/html": [
       "<div><strong>Dask-GeoPandas GeoDataFrame Structure:</strong></div>\n",
       "<table border=\"1\" class=\"dataframe\">\n",
       "  <thead>\n",
       "    <tr style=\"text-align: right;\">\n",
       "      <th></th>\n",
       "      <th>boundary_id</th>\n",
       "      <th>bf_source</th>\n",
       "      <th>confidence</th>\n",
       "      <th>area_in_meters</th>\n",
       "      <th>s2_id</th>\n",
       "      <th>country_iso</th>\n",
       "      <th>geohash</th>\n",
       "      <th>geometry</th>\n",
       "      <th>bbox</th>\n",
       "    </tr>\n",
       "    <tr>\n",
       "      <th>npartitions=5</th>\n",
       "      <th></th>\n",
       "      <th></th>\n",
       "      <th></th>\n",
       "      <th></th>\n",
       "      <th></th>\n",
       "      <th></th>\n",
       "      <th></th>\n",
       "      <th></th>\n",
       "      <th></th>\n",
       "    </tr>\n",
       "  </thead>\n",
       "  <tbody>\n",
       "    <tr>\n",
       "      <th></th>\n",
       "      <td>int64</td>\n",
       "      <td>object</td>\n",
       "      <td>float64</td>\n",
       "      <td>float64</td>\n",
       "      <td>int64</td>\n",
       "      <td>object</td>\n",
       "      <td>object</td>\n",
       "      <td>geometry</td>\n",
       "      <td>object</td>\n",
       "    </tr>\n",
       "    <tr>\n",
       "      <th></th>\n",
       "      <td>...</td>\n",
       "      <td>...</td>\n",
       "      <td>...</td>\n",
       "      <td>...</td>\n",
       "      <td>...</td>\n",
       "      <td>...</td>\n",
       "      <td>...</td>\n",
       "      <td>...</td>\n",
       "      <td>...</td>\n",
       "    </tr>\n",
       "    <tr>\n",
       "      <th>...</th>\n",
       "      <td>...</td>\n",
       "      <td>...</td>\n",
       "      <td>...</td>\n",
       "      <td>...</td>\n",
       "      <td>...</td>\n",
       "      <td>...</td>\n",
       "      <td>...</td>\n",
       "      <td>...</td>\n",
       "      <td>...</td>\n",
       "    </tr>\n",
       "    <tr>\n",
       "      <th></th>\n",
       "      <td>...</td>\n",
       "      <td>...</td>\n",
       "      <td>...</td>\n",
       "      <td>...</td>\n",
       "      <td>...</td>\n",
       "      <td>...</td>\n",
       "      <td>...</td>\n",
       "      <td>...</td>\n",
       "      <td>...</td>\n",
       "    </tr>\n",
       "    <tr>\n",
       "      <th></th>\n",
       "      <td>...</td>\n",
       "      <td>...</td>\n",
       "      <td>...</td>\n",
       "      <td>...</td>\n",
       "      <td>...</td>\n",
       "      <td>...</td>\n",
       "      <td>...</td>\n",
       "      <td>...</td>\n",
       "      <td>...</td>\n",
       "    </tr>\n",
       "  </tbody>\n",
       "</table>\n",
       "<div>Dask Name: read_parquet, 1 expression</div>"
      ],
      "text/plain": [
       "Dask GeoDataFrame Structure:\n",
       "              boundary_id bf_source confidence area_in_meters  s2_id country_iso geohash  geometry    bbox\n",
       "npartitions=5                                                                                             \n",
       "                    int64    object    float64        float64  int64      object  object  geometry  object\n",
       "                      ...       ...        ...            ...    ...         ...     ...       ...     ...\n",
       "...                   ...       ...        ...            ...    ...         ...     ...       ...     ...\n",
       "                      ...       ...        ...            ...    ...         ...     ...       ...     ...\n",
       "                      ...       ...        ...            ...    ...         ...     ...       ...     ...\n",
       "Dask Name: read_parquet, 1 expression\n",
       "Expr=FromGraph(9af71ec)"
      ]
     },
     "execution_count": 8,
     "metadata": {},
     "output_type": "execute_result"
    }
   ],
   "source": [
    "bldg_ddf"
   ]
  },
  {
   "cell_type": "markdown",
   "id": "f034bfde-d085-4e20-a9e2-86779335de8b",
   "metadata": {},
   "source": [
    "## Read Adminsitrative Boundaries Dataset"
   ]
  },
  {
   "cell_type": "markdown",
   "id": "94dacccd-f8c4-43ad-b67e-b79541bc2faf",
   "metadata": {},
   "source": [
    "We are also interested to load the adminsitrative boundaries dataset for our country of choice, and assign each building an administrative unit (Parish) name. "
   ]
  },
  {
   "cell_type": "markdown",
   "id": "76a37efe-c4e9-4a30-8317-fad2cccc95be",
   "metadata": {},
   "source": [
    "You can download each countries administrative unit json files on GDAM [website](https://gadm.org/download_country.html). Each country has different number of levels for their administrative units (and not all are available on GDAM website). \n",
    "\n",
    "Check your country of choice, and find what is the highest level of administrative boundaries that is available. \n",
    "\n",
    "In the following, we are interested in level 4 data, and the following function will download it. "
   ]
  },
  {
   "cell_type": "code",
   "execution_count": 9,
   "id": "f10dafd3-2720-4276-9d4a-763d68b394ef",
   "metadata": {},
   "outputs": [],
   "source": [
    "from utils import get_gdam_json"
   ]
  },
  {
   "cell_type": "code",
   "execution_count": 10,
   "id": "c5dc38c7-75f2-4e7a-974e-99a8ca68e150",
   "metadata": {
    "tags": []
   },
   "outputs": [
    {
     "name": "stderr",
     "output_type": "stream",
     "text": [
      "ERROR 1: PROJ: proj_create_from_database: Open of /opt/conda/envs/vector_tutorial/share/proj failed\n"
     ]
    }
   ],
   "source": [
    "boundaries = get_gdam_json(country_code = country_code, admin_level=1)"
   ]
  },
  {
   "cell_type": "code",
   "execution_count": 11,
   "id": "1bc3f71a-66a7-4b83-a766-1e21ad3fc2a6",
   "metadata": {
    "tags": []
   },
   "outputs": [
    {
     "data": {
      "text/plain": [
       "<Geographic 2D CRS: EPSG:4326>\n",
       "Name: WGS 84\n",
       "Axis Info [ellipsoidal]:\n",
       "- Lat[north]: Geodetic latitude (degree)\n",
       "- Lon[east]: Geodetic longitude (degree)\n",
       "Area of Use:\n",
       "- name: World.\n",
       "- bounds: (-180.0, -90.0, 180.0, 90.0)\n",
       "Datum: World Geodetic System 1984 ensemble\n",
       "- Ellipsoid: WGS 84\n",
       "- Prime Meridian: Greenwich"
      ]
     },
     "execution_count": 11,
     "metadata": {},
     "output_type": "execute_result"
    }
   ],
   "source": [
    "boundaries.crs"
   ]
  },
  {
   "cell_type": "code",
   "execution_count": 12,
   "id": "25ed3ec1-620d-4180-9f8f-bb8ac14a9aa2",
   "metadata": {
    "tags": []
   },
   "outputs": [
    {
     "data": {
      "text/html": [
       "<div>\n",
       "<style scoped>\n",
       "    .dataframe tbody tr th:only-of-type {\n",
       "        vertical-align: middle;\n",
       "    }\n",
       "\n",
       "    .dataframe tbody tr th {\n",
       "        vertical-align: top;\n",
       "    }\n",
       "\n",
       "    .dataframe thead th {\n",
       "        text-align: right;\n",
       "    }\n",
       "</style>\n",
       "<table border=\"1\" class=\"dataframe\">\n",
       "  <thead>\n",
       "    <tr style=\"text-align: right;\">\n",
       "      <th></th>\n",
       "      <th>GID_1</th>\n",
       "      <th>GID_0</th>\n",
       "      <th>COUNTRY</th>\n",
       "      <th>Parish</th>\n",
       "      <th>VARNAME_1</th>\n",
       "      <th>NL_NAME_1</th>\n",
       "      <th>TYPE_1</th>\n",
       "      <th>ENGTYPE_1</th>\n",
       "      <th>CC_1</th>\n",
       "      <th>HASC_1</th>\n",
       "      <th>ISO_1</th>\n",
       "      <th>geometry</th>\n",
       "    </tr>\n",
       "  </thead>\n",
       "  <tbody>\n",
       "    <tr>\n",
       "      <th>0</th>\n",
       "      <td>RWA.1_1</td>\n",
       "      <td>RWA</td>\n",
       "      <td>Rwanda</td>\n",
       "      <td>Amajyaruguru</td>\n",
       "      <td>NorthernProvince|ProvinceduNo</td>\n",
       "      <td>NA</td>\n",
       "      <td>Province</td>\n",
       "      <td>Province</td>\n",
       "      <td>4</td>\n",
       "      <td>RW.NO</td>\n",
       "      <td>NA</td>\n",
       "      <td>MULTIPOLYGON (((29.9924 -1.9076, 29.9828 -1.91...</td>\n",
       "    </tr>\n",
       "    <tr>\n",
       "      <th>1</th>\n",
       "      <td>RWA.2_1</td>\n",
       "      <td>RWA</td>\n",
       "      <td>Rwanda</td>\n",
       "      <td>Amajyepfo</td>\n",
       "      <td>SouthernProvince|ProvinceduSu</td>\n",
       "      <td>NA</td>\n",
       "      <td>Province</td>\n",
       "      <td>Province</td>\n",
       "      <td>2</td>\n",
       "      <td>RW.SU</td>\n",
       "      <td>NA</td>\n",
       "      <td>MULTIPOLYGON (((29.5407 -2.8291, 29.5381 -2.82...</td>\n",
       "    </tr>\n",
       "    <tr>\n",
       "      <th>2</th>\n",
       "      <td>RWA.3_1</td>\n",
       "      <td>RWA</td>\n",
       "      <td>Rwanda</td>\n",
       "      <td>Iburasirazuba</td>\n",
       "      <td>EasternProvince|Provincedel'E</td>\n",
       "      <td>NA</td>\n",
       "      <td>Province</td>\n",
       "      <td>Province</td>\n",
       "      <td>5</td>\n",
       "      <td>RW.ES</td>\n",
       "      <td>NA</td>\n",
       "      <td>MULTIPOLYGON (((30.6679 -2.4039, 30.664 -2.405...</td>\n",
       "    </tr>\n",
       "    <tr>\n",
       "      <th>3</th>\n",
       "      <td>RWA.4_1</td>\n",
       "      <td>RWA</td>\n",
       "      <td>Rwanda</td>\n",
       "      <td>Iburengerazuba</td>\n",
       "      <td>WesternProvince|Provincedel'O</td>\n",
       "      <td>NA</td>\n",
       "      <td>Province</td>\n",
       "      <td>Province</td>\n",
       "      <td>3</td>\n",
       "      <td>RW.OU</td>\n",
       "      <td>NA</td>\n",
       "      <td>MULTIPOLYGON (((29.0355 -2.7375, 29.0347 -2.73...</td>\n",
       "    </tr>\n",
       "    <tr>\n",
       "      <th>4</th>\n",
       "      <td>RWA.5_1</td>\n",
       "      <td>RWA</td>\n",
       "      <td>Rwanda</td>\n",
       "      <td>UmujyiwaKigali</td>\n",
       "      <td>KigaliCity|VilledeKigali</td>\n",
       "      <td>NA</td>\n",
       "      <td>Province</td>\n",
       "      <td>Province</td>\n",
       "      <td>1</td>\n",
       "      <td>RW.KV</td>\n",
       "      <td>NA</td>\n",
       "      <td>MULTIPOLYGON (((30.0161 -2.0755, 30.0164 -2.07...</td>\n",
       "    </tr>\n",
       "  </tbody>\n",
       "</table>\n",
       "</div>"
      ],
      "text/plain": [
       "     GID_1 GID_0 COUNTRY          Parish                      VARNAME_1  \\\n",
       "0  RWA.1_1   RWA  Rwanda    Amajyaruguru  NorthernProvince|ProvinceduNo   \n",
       "1  RWA.2_1   RWA  Rwanda       Amajyepfo  SouthernProvince|ProvinceduSu   \n",
       "2  RWA.3_1   RWA  Rwanda   Iburasirazuba  EasternProvince|Provincedel'E   \n",
       "3  RWA.4_1   RWA  Rwanda  Iburengerazuba  WesternProvince|Provincedel'O   \n",
       "4  RWA.5_1   RWA  Rwanda  UmujyiwaKigali       KigaliCity|VilledeKigali   \n",
       "\n",
       "  NL_NAME_1    TYPE_1 ENGTYPE_1 CC_1 HASC_1 ISO_1  \\\n",
       "0        NA  Province  Province    4  RW.NO    NA   \n",
       "1        NA  Province  Province    2  RW.SU    NA   \n",
       "2        NA  Province  Province    5  RW.ES    NA   \n",
       "3        NA  Province  Province    3  RW.OU    NA   \n",
       "4        NA  Province  Province    1  RW.KV    NA   \n",
       "\n",
       "                                            geometry  \n",
       "0  MULTIPOLYGON (((29.9924 -1.9076, 29.9828 -1.91...  \n",
       "1  MULTIPOLYGON (((29.5407 -2.8291, 29.5381 -2.82...  \n",
       "2  MULTIPOLYGON (((30.6679 -2.4039, 30.664 -2.405...  \n",
       "3  MULTIPOLYGON (((29.0355 -2.7375, 29.0347 -2.73...  \n",
       "4  MULTIPOLYGON (((30.0161 -2.0755, 30.0164 -2.07...  "
      ]
     },
     "execution_count": 12,
     "metadata": {},
     "output_type": "execute_result"
    }
   ],
   "source": [
    "boundaries.head()"
   ]
  },
  {
   "cell_type": "markdown",
   "id": "4af12eab-b7c7-4dee-8950-fcc9bc3bf41b",
   "metadata": {},
   "source": [
    "## Spatial Join"
   ]
  },
  {
   "cell_type": "markdown",
   "id": "eaafa3cd-40e6-4811-bdb6-6222c86ffe7a",
   "metadata": {},
   "source": [
    "Now, we will use the spatial join to add the Parish name (`Parish` column in `boundaries`) to `bldg_ddf`:"
   ]
  },
  {
   "cell_type": "code",
   "execution_count": 13,
   "id": "f9bf3eaa-5e1f-4686-b5ec-5a5ae1bfbd52",
   "metadata": {
    "tags": []
   },
   "outputs": [],
   "source": [
    "bldg_ddf_w_boundaries = bldg_ddf.sjoin(boundaries, how=\"inner\", predicate=\"intersects\")"
   ]
  },
  {
   "cell_type": "code",
   "execution_count": 14,
   "id": "7b50c3b8-ad80-41aa-b08d-2529451013c1",
   "metadata": {},
   "outputs": [
    {
     "data": {
      "text/html": [
       "<div><strong>Dask-GeoPandas GeoDataFrame Structure:</strong></div>\n",
       "<table border=\"1\" class=\"dataframe\">\n",
       "  <thead>\n",
       "    <tr style=\"text-align: right;\">\n",
       "      <th></th>\n",
       "      <th>boundary_id</th>\n",
       "      <th>bf_source</th>\n",
       "      <th>confidence</th>\n",
       "      <th>area_in_meters</th>\n",
       "      <th>s2_id</th>\n",
       "      <th>country_iso</th>\n",
       "      <th>geohash</th>\n",
       "      <th>geometry</th>\n",
       "      <th>bbox</th>\n",
       "      <th>index_right</th>\n",
       "      <th>GID_1</th>\n",
       "      <th>GID_0</th>\n",
       "      <th>COUNTRY</th>\n",
       "      <th>Parish</th>\n",
       "      <th>VARNAME_1</th>\n",
       "      <th>NL_NAME_1</th>\n",
       "      <th>TYPE_1</th>\n",
       "      <th>ENGTYPE_1</th>\n",
       "      <th>CC_1</th>\n",
       "      <th>HASC_1</th>\n",
       "      <th>ISO_1</th>\n",
       "    </tr>\n",
       "    <tr>\n",
       "      <th>npartitions=5</th>\n",
       "      <th></th>\n",
       "      <th></th>\n",
       "      <th></th>\n",
       "      <th></th>\n",
       "      <th></th>\n",
       "      <th></th>\n",
       "      <th></th>\n",
       "      <th></th>\n",
       "      <th></th>\n",
       "      <th></th>\n",
       "      <th></th>\n",
       "      <th></th>\n",
       "      <th></th>\n",
       "      <th></th>\n",
       "      <th></th>\n",
       "      <th></th>\n",
       "      <th></th>\n",
       "      <th></th>\n",
       "      <th></th>\n",
       "      <th></th>\n",
       "      <th></th>\n",
       "    </tr>\n",
       "  </thead>\n",
       "  <tbody>\n",
       "    <tr>\n",
       "      <th></th>\n",
       "      <td>int64</td>\n",
       "      <td>object</td>\n",
       "      <td>float64</td>\n",
       "      <td>float64</td>\n",
       "      <td>int64</td>\n",
       "      <td>object</td>\n",
       "      <td>object</td>\n",
       "      <td>geometry</td>\n",
       "      <td>object</td>\n",
       "      <td>int64</td>\n",
       "      <td>string</td>\n",
       "      <td>string</td>\n",
       "      <td>string</td>\n",
       "      <td>string</td>\n",
       "      <td>string</td>\n",
       "      <td>string</td>\n",
       "      <td>string</td>\n",
       "      <td>string</td>\n",
       "      <td>string</td>\n",
       "      <td>string</td>\n",
       "      <td>string</td>\n",
       "    </tr>\n",
       "    <tr>\n",
       "      <th></th>\n",
       "      <td>...</td>\n",
       "      <td>...</td>\n",
       "      <td>...</td>\n",
       "      <td>...</td>\n",
       "      <td>...</td>\n",
       "      <td>...</td>\n",
       "      <td>...</td>\n",
       "      <td>...</td>\n",
       "      <td>...</td>\n",
       "      <td>...</td>\n",
       "      <td>...</td>\n",
       "      <td>...</td>\n",
       "      <td>...</td>\n",
       "      <td>...</td>\n",
       "      <td>...</td>\n",
       "      <td>...</td>\n",
       "      <td>...</td>\n",
       "      <td>...</td>\n",
       "      <td>...</td>\n",
       "      <td>...</td>\n",
       "      <td>...</td>\n",
       "    </tr>\n",
       "    <tr>\n",
       "      <th>...</th>\n",
       "      <td>...</td>\n",
       "      <td>...</td>\n",
       "      <td>...</td>\n",
       "      <td>...</td>\n",
       "      <td>...</td>\n",
       "      <td>...</td>\n",
       "      <td>...</td>\n",
       "      <td>...</td>\n",
       "      <td>...</td>\n",
       "      <td>...</td>\n",
       "      <td>...</td>\n",
       "      <td>...</td>\n",
       "      <td>...</td>\n",
       "      <td>...</td>\n",
       "      <td>...</td>\n",
       "      <td>...</td>\n",
       "      <td>...</td>\n",
       "      <td>...</td>\n",
       "      <td>...</td>\n",
       "      <td>...</td>\n",
       "      <td>...</td>\n",
       "    </tr>\n",
       "    <tr>\n",
       "      <th></th>\n",
       "      <td>...</td>\n",
       "      <td>...</td>\n",
       "      <td>...</td>\n",
       "      <td>...</td>\n",
       "      <td>...</td>\n",
       "      <td>...</td>\n",
       "      <td>...</td>\n",
       "      <td>...</td>\n",
       "      <td>...</td>\n",
       "      <td>...</td>\n",
       "      <td>...</td>\n",
       "      <td>...</td>\n",
       "      <td>...</td>\n",
       "      <td>...</td>\n",
       "      <td>...</td>\n",
       "      <td>...</td>\n",
       "      <td>...</td>\n",
       "      <td>...</td>\n",
       "      <td>...</td>\n",
       "      <td>...</td>\n",
       "      <td>...</td>\n",
       "    </tr>\n",
       "    <tr>\n",
       "      <th></th>\n",
       "      <td>...</td>\n",
       "      <td>...</td>\n",
       "      <td>...</td>\n",
       "      <td>...</td>\n",
       "      <td>...</td>\n",
       "      <td>...</td>\n",
       "      <td>...</td>\n",
       "      <td>...</td>\n",
       "      <td>...</td>\n",
       "      <td>...</td>\n",
       "      <td>...</td>\n",
       "      <td>...</td>\n",
       "      <td>...</td>\n",
       "      <td>...</td>\n",
       "      <td>...</td>\n",
       "      <td>...</td>\n",
       "      <td>...</td>\n",
       "      <td>...</td>\n",
       "      <td>...</td>\n",
       "      <td>...</td>\n",
       "      <td>...</td>\n",
       "    </tr>\n",
       "  </tbody>\n",
       "</table>\n",
       "<div>Dask Name: sjoin, 1 expression</div>"
      ],
      "text/plain": [
       "Dask GeoDataFrame Structure:\n",
       "              boundary_id bf_source confidence area_in_meters  s2_id country_iso geohash  geometry    bbox index_right   GID_1   GID_0 COUNTRY  Parish VARNAME_1 NL_NAME_1  TYPE_1 ENGTYPE_1    CC_1  HASC_1   ISO_1\n",
       "npartitions=5                                                                                                                                                                                                       \n",
       "                    int64    object    float64        float64  int64      object  object  geometry  object       int64  string  string  string  string    string    string  string    string  string  string  string\n",
       "                      ...       ...        ...            ...    ...         ...     ...       ...     ...         ...     ...     ...     ...     ...       ...       ...     ...       ...     ...     ...     ...\n",
       "...                   ...       ...        ...            ...    ...         ...     ...       ...     ...         ...     ...     ...     ...     ...       ...       ...     ...       ...     ...     ...     ...\n",
       "                      ...       ...        ...            ...    ...         ...     ...       ...     ...         ...     ...     ...     ...     ...       ...       ...     ...       ...     ...     ...     ...\n",
       "                      ...       ...        ...            ...    ...         ...     ...       ...     ...         ...     ...     ...     ...     ...       ...       ...     ...       ...     ...     ...     ...\n",
       "Dask Name: sjoin, 1 expression\n",
       "Expr=FromGraph(600fc39)"
      ]
     },
     "execution_count": 14,
     "metadata": {},
     "output_type": "execute_result"
    }
   ],
   "source": [
    "bldg_ddf_w_boundaries"
   ]
  },
  {
   "cell_type": "code",
   "execution_count": 15,
   "id": "0f2bc173-1a76-461c-bf3e-dd08fe60cd9c",
   "metadata": {
    "scrolled": true,
    "tags": []
   },
   "outputs": [],
   "source": [
    "buildigs_per_parish = bldg_ddf_w_boundaries[\"Parish\"].value_counts().compute()"
   ]
  },
  {
   "cell_type": "code",
   "execution_count": 16,
   "id": "1e5304b9-377c-46ec-b3b9-ac99ec520ec9",
   "metadata": {
    "tags": []
   },
   "outputs": [
    {
     "data": {
      "text/plain": [
       "Parish\n",
       "Amajyaruguru      1083456\n",
       "Amajyepfo         1471584\n",
       "Iburengerazuba    1273120\n",
       "Iburasirazuba     1703538\n",
       "UmujyiwaKigali     770553\n",
       "Name: count, dtype: int64[pyarrow]"
      ]
     },
     "execution_count": 16,
     "metadata": {},
     "output_type": "execute_result"
    }
   ],
   "source": [
    "buildigs_per_parish"
   ]
  },
  {
   "cell_type": "code",
   "execution_count": 17,
   "id": "bd194066-0437-43e0-a2ce-dcafaf41c0e2",
   "metadata": {},
   "outputs": [
    {
     "name": "stdout",
     "output_type": "stream",
     "text": [
      "Total number of buildings is 6302251\n"
     ]
    }
   ],
   "source": [
    "print(f\"Total number of buildings is {buildigs_per_parish.sum()}\")"
   ]
  },
  {
   "cell_type": "markdown",
   "id": "2f26c948-3ef1-4ecb-a239-7b0a2a268647",
   "metadata": {
    "tags": []
   },
   "source": [
    "### Exercise 1: Plot the number of buildings per Parish on the map"
   ]
  },
  {
   "cell_type": "code",
   "execution_count": null,
   "id": "bd740a71",
   "metadata": {},
   "outputs": [],
   "source": []
  },
  {
   "cell_type": "markdown",
   "id": "baa695e0-db84-4f90-a3bf-5b29ba9d12d9",
   "metadata": {
    "tags": []
   },
   "source": [
    "### Exercise 2: Calculate percentage of the area of each Parish that is covered by buildings"
   ]
  },
  {
   "cell_type": "code",
   "execution_count": null,
   "id": "141bf54f-0168-4dce-a491-e68f821b46b0",
   "metadata": {},
   "outputs": [],
   "source": []
  }
 ],
 "metadata": {
  "kernelspec": {
   "display_name": "Python 3 (ipykernel)",
   "language": "python",
   "name": "python3"
  },
  "language_info": {
   "codemirror_mode": {
    "name": "ipython",
    "version": 3
   },
   "file_extension": ".py",
   "mimetype": "text/x-python",
   "name": "python",
   "nbconvert_exporter": "python",
   "pygments_lexer": "ipython3",
   "version": "3.12.7"
  },
  "vscode": {
   "interpreter": {
    "hash": "327a3064184c72cf2315f340faf7cd6d38902e235df73e5f8747aa73527562c0"
   }
  }
 },
 "nbformat": 4,
 "nbformat_minor": 5
}
